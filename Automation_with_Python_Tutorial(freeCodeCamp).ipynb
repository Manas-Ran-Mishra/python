{
 "cells": [
  {
   "cell_type": "code",
   "execution_count": 1,
   "id": "03c097a4",
   "metadata": {},
   "outputs": [
    {
     "name": "stdout",
     "output_type": "stream",
     "text": [
      "Hello world!\n"
     ]
    }
   ],
   "source": [
    "print(\"Hello world!\")"
   ]
  },
  {
   "cell_type": "markdown",
   "id": "655d834f",
   "metadata": {},
   "source": [
    "# Packages to download:\n",
    "- ## smtplib\n",
    "- ## requests\n",
    "- ## datetime\n",
    "- ## bs4\n",
    "- ## email.mime\n",
    "- ## getpass\n",
    "- ## ssl\n",
    "- ## re\n",
    "- ## sys\n",
    "- ## camelot\n",
    "- ## pandas\n",
    "- ## seaborn\n",
    "- ## spacy\n",
    "- ## pdfminer\n",
    "- ## os\n",
    "- ## PIL(Pillow)\n",
    "- ## glob\n",
    "- ## gensim(needs to be 3.7.2 for summarization)"
   ]
  },
  {
   "cell_type": "markdown",
   "id": "752231c6",
   "metadata": {},
   "source": [
    "## Some practice runs"
   ]
  },
  {
   "cell_type": "code",
   "execution_count": 7,
   "id": "9142d818",
   "metadata": {},
   "outputs": [],
   "source": [
    "import smtplib\n",
    "import datetime\n",
    "import email.mime\n",
    "import requests\n",
    "import bs4\n",
    "import ssl\n",
    "import re"
   ]
  },
  {
   "cell_type": "code",
   "execution_count": 65,
   "id": "300c7cc8",
   "metadata": {},
   "outputs": [],
   "source": [
    "def get_my_content(url):\n",
    "    return requests.get(url)"
   ]
  },
  {
   "cell_type": "code",
   "execution_count": 66,
   "id": "922353b2",
   "metadata": {},
   "outputs": [],
   "source": [
    "my_html_content=get_my_content('https://news.ycombinator.com/')"
   ]
  },
  {
   "cell_type": "code",
   "execution_count": null,
   "id": "ad55426a",
   "metadata": {},
   "outputs": [],
   "source": [
    "my_content=my_html_content.content\n",
    "from bs4 import BeautifulSoup\n",
    "soup1 = BeautifulSoup(my_content,'html.parser')\n",
    "# soup2 = BeautifulSoup(my_content,'lxml')\n",
    "\n",
    "print(soup1.prettify())"
   ]
  },
  {
   "cell_type": "markdown",
   "id": "7e1a94d0",
   "metadata": {},
   "source": [
    "# Hacker News headlines emailer"
   ]
  },
  {
   "cell_type": "code",
   "execution_count": null,
   "id": "7ea49ddd",
   "metadata": {},
   "outputs": [],
   "source": [
    "# Http requests\n",
    "import requests\n",
    "# Web Scraping\n",
    "from bs4 import BeautifulSoup\n",
    "# Password Masking\n",
    "import getpass\n",
    "# Creating default context\n",
    "import ssl\n",
    "# Send the email\n",
    "import smtplib\n",
    "# For email body\n",
    "from email.mime.multipart import MIMEMultipart\n",
    "from email.mime.text import MIMEText\n",
    "# System Date and Time\n",
    "import datetime\n",
    "now = datetime.datetime.now()\n",
    "\n",
    "# Global content variable\n",
    "content=''\n",
    "\n",
    "# extracting Hacker News Stories\n",
    "\n",
    "def extract_news(url):\n",
    "    print('Extracting Stories....\\n')\n",
    "    temp_cnt = '<b style=\"color:red;\">This is an automated email. Please do not reply.</b><br><br>\\n'\n",
    "    temp_cnt += ('<b>HN Top Stories</b>\\n'+'<br><hr>')\n",
    "    response = requests.get(url)\n",
    "    temp_cnt_2 = response.content\n",
    "    soup = BeautifulSoup(temp_cnt_2,'html.parser')\n",
    "#     soup.find_all()\n",
    "    for i,tag in enumerate(soup.find_all('a',attrs={'class':'titlelink'})):\n",
    "        temp_cnt += (str(i+1)+' :: <a href=\"'+ tag.get('href') + '\">' + tag.text + '</a>\\n' + '<br>')\n",
    "    print('\\nExtraction completed...\\n')\n",
    "    return temp_cnt\n",
    "\n",
    "global_temp_content = extract_news('https://news.ycombinator.com/')\n",
    "\n",
    "content += global_temp_content\n",
    "content += '<hr><b>End of the stories</b>'\n",
    "\n",
    "print('\\nStories refinement completed...\\n')\n",
    "\n",
    "# Required fields for Email\n",
    "\n",
    "print('\\nFetching required details from user...\\n')\n",
    "\n",
    "EMAIL_SUBJECT = 'HN Top Stories ' + str(now.day) + '/' + str(now.month) + '/' + str(now.year) # subject of the email\n",
    "FROM = input(\"Sender's email: \")# sender's email\n",
    "PASSWORD = getpass.getpass(\"Sender's password: \")# password associated with sender's email\n",
    "\n",
    "# The above gmail account should have 2 Step Authentication Turned Off and Less Secure Apps access Turned On\n",
    "\n",
    "print('\\n\\n')\n",
    "\n",
    "TO = input(\"Reciever's email: \")# recipient's email # can be a list of email ids # you can use temp-mail here\n",
    "\n",
    "print('\\nUser provided the details...\\n')\n",
    "\n",
    "# Preparing to connect to SMTP server\n",
    "\n",
    "print('\\nConfiguring SMTP server...\\n')\n",
    "\n",
    "SERVER = 'smtp.gmail.com'# smtp server\n",
    "PORT = '465'# smtp port number\n",
    "context = ssl.create_default_context()\n",
    "\n",
    "print('\\nServer configuration completed...\\n')\n",
    "\n",
    "# Building the message\n",
    "\n",
    "print('\\nBuilding the email message...\\n')\n",
    "\n",
    "msg = MIMEMultipart()\n",
    "msg['Subject']= EMAIL_SUBJECT\n",
    "msg['From']=FROM\n",
    "msg['To']=TO\n",
    "\n",
    "msg.attach(MIMEText(content,'html'))\n",
    "\n",
    "msg_string=msg.as_string()\n",
    "\n",
    "print('\\nCompleted buidling email message...\\n')\n",
    "\n",
    "def watch_error_logs(user_choice):\n",
    "    user_choice = user_choice.lower()\n",
    "    if user_choice=='yes':\n",
    "        return 1\n",
    "    elif user_choice=='no':\n",
    "        return 0\n",
    "    else:\n",
    "        watch_error_logs(input('Please choose between \"Yes\" or \"No\" :'))\n",
    "\n",
    "debug_level_select=watch_error_logs(input(\"Do you want to see the log messages while conntecting to server and sending email: (Yes or No)\"))\n",
    "\n",
    "# Connecting to SMTP\n",
    "\n",
    "print('\\nConnecting to server and sending the email...\\n')\n",
    "\n",
    "with smtplib.SMTP_SSL(SERVER,PORT,context=context) as server:\n",
    "    server.set_debuglevel(debug_level_select)\n",
    "    server.login(FROM,PASSWORD)\n",
    "    server.sendmail(FROM,TO,msg_string)\n",
    "\n",
    "print('\\nEmail sent and server connection closed...\\n')"
   ]
  },
  {
   "cell_type": "markdown",
   "id": "39baa8aa",
   "metadata": {},
   "source": [
    "**References**\n",
    "- https://realpython.com/python-send-email/\n",
    "- https://github.com/amrrs/build_tools_to_automate_python/blob/master/hn_news_scraper_no_cred.py\n",
    "- https://docs.python.org/3/library/"
   ]
  },
  {
   "cell_type": "markdown",
   "id": "48c62f37",
   "metadata": {},
   "source": [
    "# TedTalk Downloader"
   ]
  },
  {
   "cell_type": "code",
   "execution_count": 65,
   "id": "5af1622a",
   "metadata": {
    "scrolled": true
   },
   "outputs": [
    {
     "name": "stdout",
     "output_type": "stream",
     "text": [
      "Please enter the TEDTalk video URL: https://www.ted.com/talks/ken_robinson_says_schools_kill_creativity\n",
      "\n",
      "Downloading video from... https://download.ted.com/products/113065.mp4\n",
      "\n",
      "Storing file as ken_robinson_says_schools_kill_creativity.mp4\n",
      "\n",
      "Downloading...\n",
      "\n",
      "Download Complete...\n"
     ]
    }
   ],
   "source": [
    "# Http requests\n",
    "import requests\n",
    "# Html parsing\n",
    "from bs4 import BeautifulSoup\n",
    "# Regular Expression | Pattern Matching\n",
    "import re\n",
    "# Argument parsing\n",
    "import sys\n",
    "\n",
    "url=''\n",
    "\n",
    "# For jupyter-notebook users\n",
    "def user_input_url():\n",
    "    \"\"\"\n",
    "    Prompts user to enter the URL and returns the URL\n",
    "    \"\"\"\n",
    "    return input('Please enter the TEDTalk video URL: ')\n",
    "url=user_input_url()\n",
    "\n",
    "# For command line input\n",
    "# if len(sys.argv>1):\n",
    "#     url=sys.argv[1]\n",
    "# else:\n",
    "#     sys.exit(\"Error: Please enter the correct URL\")\n",
    "\n",
    "response = requests.get(url)\n",
    "\n",
    "soup=BeautifulSoup(response.content,features='lxml')\n",
    "\n",
    "temp_tag=soup.find_all('script',attrs={'data-spec':'q'})\n",
    "\n",
    "video_url=re.search(\"(https?://download.ted.com/products/)[0-9]+(.mp4)\", str(temp_tag)).group()\n",
    "\n",
    "print(\"\\nDownloading video from... \" + video_url)\n",
    "\n",
    "# User providing file name, if preferred\n",
    "# file_name=input('Enter your preferred name for the file: ')\n",
    "file_name=url.split('/')[-1]\n",
    "file_name+='.mp4'\n",
    "\n",
    "print(f'\\nStoring file as {file_name}')\n",
    "\n",
    "print('\\nDownloading...')\n",
    "\n",
    "response=requests.get(video_url)\n",
    "\n",
    "with open(file_name,mode='wb') as file:\n",
    "    file.write(response.content)\n",
    "\n",
    "print('\\nDownload Complete...')"
   ]
  },
  {
   "cell_type": "markdown",
   "id": "786a78d6",
   "metadata": {},
   "source": [
    "**References**\n",
    "- https://github.com/amrrs/build_tools_to_automate_python/blob/master/ted_talk_downloader.py\n",
    "- https://docs.python.org/3/library/re.html"
   ]
  },
  {
   "cell_type": "markdown",
   "id": "b97f358b",
   "metadata": {},
   "source": [
    "# PDF Table Extraction"
   ]
  },
  {
   "cell_type": "code",
   "execution_count": 11,
   "id": "d28b8dc4",
   "metadata": {},
   "outputs": [
    {
     "name": "stdout",
     "output_type": "stream",
     "text": [
      "Automation_with_Python_Tutorial(freeCodeCamp).ipynb\r\n",
      "Practice Runs 1.ipynb\r\n",
      "Practice Runs 2.ipynb\r\n",
      "Practice Runs 3.ipynb\r\n",
      "README.md\r\n",
      "Tic Tac Toe.ipynb\r\n",
      "india_factsheet_economic_n_hdi.pdf\r\n",
      "ken_robinson_says_schools_kill_creativity.mp4\r\n"
     ]
    }
   ],
   "source": [
    "ls"
   ]
  },
  {
   "cell_type": "code",
   "execution_count": 89,
   "id": "7eda8db6",
   "metadata": {},
   "outputs": [],
   "source": [
    "import camelot as cm\n",
    "my_tables_from_pdf=cm.read_pdf('india_factsheet_economic_n_hdi.pdf')"
   ]
  },
  {
   "cell_type": "code",
   "execution_count": 90,
   "id": "ee05f1a7",
   "metadata": {},
   "outputs": [
    {
     "data": {
      "text/plain": [
       "<TableList n=3>"
      ]
     },
     "execution_count": 90,
     "metadata": {},
     "output_type": "execute_result"
    }
   ],
   "source": [
    "my_tables_from_pdf"
   ]
  },
  {
   "cell_type": "code",
   "execution_count": 91,
   "id": "648ca2a1",
   "metadata": {},
   "outputs": [
    {
     "name": "stdout",
     "output_type": "stream",
     "text": [
      "<Table shape=(4, 3)>\n",
      "<Table shape=(15, 3)>\n",
      "<Table shape=(14, 4)>\n"
     ]
    }
   ],
   "source": [
    "for table in my_tables_from_pdf:\n",
    "    print(table)"
   ]
  },
  {
   "cell_type": "code",
   "execution_count": 92,
   "id": "1c1b56fd",
   "metadata": {},
   "outputs": [
    {
     "data": {
      "text/html": [
       "<div>\n",
       "<style scoped>\n",
       "    .dataframe tbody tr th:only-of-type {\n",
       "        vertical-align: middle;\n",
       "    }\n",
       "\n",
       "    .dataframe tbody tr th {\n",
       "        vertical-align: top;\n",
       "    }\n",
       "\n",
       "    .dataframe thead th {\n",
       "        text-align: right;\n",
       "    }\n",
       "</style>\n",
       "<table border=\"1\" class=\"dataframe\">\n",
       "  <thead>\n",
       "    <tr style=\"text-align: right;\">\n",
       "      <th></th>\n",
       "      <th>0</th>\n",
       "      <th>1</th>\n",
       "      <th>2</th>\n",
       "      <th>3</th>\n",
       "    </tr>\n",
       "  </thead>\n",
       "  <tbody>\n",
       "    <tr>\n",
       "      <th>0</th>\n",
       "      <td>Human Development Indicators</td>\n",
       "      <td></td>\n",
       "      <td>2000</td>\n",
       "      <td>2011</td>\n",
       "    </tr>\n",
       "    <tr>\n",
       "      <th>1</th>\n",
       "      <td>13</td>\n",
       "      <td>Human Development Index Value (HDI)</td>\n",
       "      <td>0.461</td>\n",
       "      <td>0.547</td>\n",
       "    </tr>\n",
       "    <tr>\n",
       "      <th>2</th>\n",
       "      <td>14</td>\n",
       "      <td>HDI Rank (out of 187)</td>\n",
       "      <td></td>\n",
       "      <td>134</td>\n",
       "    </tr>\n",
       "    <tr>\n",
       "      <th>3</th>\n",
       "      <td>15</td>\n",
       "      <td>Inequality Adjusted Human Development Index Value</td>\n",
       "      <td></td>\n",
       "      <td>0.392</td>\n",
       "    </tr>\n",
       "    <tr>\n",
       "      <th>4</th>\n",
       "      <td>16</td>\n",
       "      <td>Loss in HDI due to Inequalities (%)</td>\n",
       "      <td></td>\n",
       "      <td>28.7</td>\n",
       "    </tr>\n",
       "    <tr>\n",
       "      <th>5</th>\n",
       "      <td></td>\n",
       "      <td></td>\n",
       "      <td>2001</td>\n",
       "      <td>2011</td>\n",
       "    </tr>\n",
       "    <tr>\n",
       "      <th>6</th>\n",
       "      <td>17</td>\n",
       "      <td>Gender Inequality Index (GII)</td>\n",
       "      <td>0.5531</td>\n",
       "      <td>0.617</td>\n",
       "    </tr>\n",
       "    <tr>\n",
       "      <th>7</th>\n",
       "      <td>18</td>\n",
       "      <td>GII Rank (out of 146)</td>\n",
       "      <td></td>\n",
       "      <td>129</td>\n",
       "    </tr>\n",
       "    <tr>\n",
       "      <th>8</th>\n",
       "      <td></td>\n",
       "      <td></td>\n",
       "      <td>1996</td>\n",
       "      <td>2006</td>\n",
       "    </tr>\n",
       "    <tr>\n",
       "      <th>9</th>\n",
       "      <td>19</td>\n",
       "      <td>Gender Empowerment Measure (GEM)</td>\n",
       "      <td>0.416</td>\n",
       "      <td>0.497</td>\n",
       "    </tr>\n",
       "    <tr>\n",
       "      <th>10</th>\n",
       "      <td></td>\n",
       "      <td></td>\n",
       "      <td>2001</td>\n",
       "      <td>2011</td>\n",
       "    </tr>\n",
       "    <tr>\n",
       "      <th>11</th>\n",
       "      <td>20</td>\n",
       "      <td>Literacy Rate (%)</td>\n",
       "      <td>64.8</td>\n",
       "      <td>74.04</td>\n",
       "    </tr>\n",
       "    <tr>\n",
       "      <th>12</th>\n",
       "      <td>21</td>\n",
       "      <td>Male Literacy Rate (%)</td>\n",
       "      <td>75.3</td>\n",
       "      <td>82.14</td>\n",
       "    </tr>\n",
       "    <tr>\n",
       "      <th>13</th>\n",
       "      <td>22</td>\n",
       "      <td>Female Literacy Rate (%)</td>\n",
       "      <td>53.7</td>\n",
       "      <td>65.46</td>\n",
       "    </tr>\n",
       "  </tbody>\n",
       "</table>\n",
       "</div>"
      ],
      "text/plain": [
       "                               0  \\\n",
       "0   Human Development Indicators   \n",
       "1                             13   \n",
       "2                             14   \n",
       "3                             15   \n",
       "4                             16   \n",
       "5                                  \n",
       "6                             17   \n",
       "7                             18   \n",
       "8                                  \n",
       "9                             19   \n",
       "10                                 \n",
       "11                            20   \n",
       "12                            21   \n",
       "13                            22   \n",
       "\n",
       "                                                    1       2      3  \n",
       "0                                                        2000   2011  \n",
       "1                 Human Development Index Value (HDI)   0.461  0.547  \n",
       "2                               HDI Rank (out of 187)            134  \n",
       "3   Inequality Adjusted Human Development Index Value          0.392  \n",
       "4                 Loss in HDI due to Inequalities (%)           28.7  \n",
       "5                                                        2001   2011  \n",
       "6                       Gender Inequality Index (GII)  0.5531  0.617  \n",
       "7                               GII Rank (out of 146)            129  \n",
       "8                                                        1996   2006  \n",
       "9                    Gender Empowerment Measure (GEM)   0.416  0.497  \n",
       "10                                                       2001   2011  \n",
       "11                                  Literacy Rate (%)    64.8  74.04  \n",
       "12                             Male Literacy Rate (%)    75.3  82.14  \n",
       "13                           Female Literacy Rate (%)    53.7  65.46  "
      ]
     },
     "execution_count": 92,
     "metadata": {},
     "output_type": "execute_result"
    }
   ],
   "source": [
    "my_tables_from_pdf[2].df"
   ]
  },
  {
   "cell_type": "code",
   "execution_count": 93,
   "id": "0e21e68b",
   "metadata": {},
   "outputs": [],
   "source": [
    "df=my_tables_from_pdf[2].df.loc[11:13,1:3]"
   ]
  },
  {
   "cell_type": "code",
   "execution_count": 99,
   "id": "15840847",
   "metadata": {},
   "outputs": [
    {
     "data": {
      "text/html": [
       "<div>\n",
       "<style scoped>\n",
       "    .dataframe tbody tr th:only-of-type {\n",
       "        vertical-align: middle;\n",
       "    }\n",
       "\n",
       "    .dataframe tbody tr th {\n",
       "        vertical-align: top;\n",
       "    }\n",
       "\n",
       "    .dataframe thead th {\n",
       "        text-align: right;\n",
       "    }\n",
       "</style>\n",
       "<table border=\"1\" class=\"dataframe\">\n",
       "  <thead>\n",
       "    <tr style=\"text-align: right;\">\n",
       "      <th></th>\n",
       "      <th>1</th>\n",
       "      <th>2</th>\n",
       "      <th>3</th>\n",
       "    </tr>\n",
       "  </thead>\n",
       "  <tbody>\n",
       "    <tr>\n",
       "      <th>11</th>\n",
       "      <td>Literacy Rate (%)</td>\n",
       "      <td>64.8</td>\n",
       "      <td>74.04</td>\n",
       "    </tr>\n",
       "    <tr>\n",
       "      <th>12</th>\n",
       "      <td>Male Literacy Rate (%)</td>\n",
       "      <td>75.3</td>\n",
       "      <td>82.14</td>\n",
       "    </tr>\n",
       "    <tr>\n",
       "      <th>13</th>\n",
       "      <td>Female Literacy Rate (%)</td>\n",
       "      <td>53.7</td>\n",
       "      <td>65.46</td>\n",
       "    </tr>\n",
       "  </tbody>\n",
       "</table>\n",
       "</div>"
      ],
      "text/plain": [
       "                           1     2      3\n",
       "11         Literacy Rate (%)  64.8  74.04\n",
       "12    Male Literacy Rate (%)  75.3  82.14\n",
       "13  Female Literacy Rate (%)  53.7  65.46"
      ]
     },
     "execution_count": 99,
     "metadata": {},
     "output_type": "execute_result"
    }
   ],
   "source": [
    "df"
   ]
  },
  {
   "cell_type": "code",
   "execution_count": 102,
   "id": "fc80a455",
   "metadata": {},
   "outputs": [
    {
     "data": {
      "text/plain": [
       "float64    2\n",
       "string     1\n",
       "dtype: int64"
      ]
     },
     "execution_count": 102,
     "metadata": {},
     "output_type": "execute_result"
    }
   ],
   "source": [
    "df.dtypes.value_counts()"
   ]
  },
  {
   "cell_type": "code",
   "execution_count": 97,
   "id": "5ede5209",
   "metadata": {},
   "outputs": [],
   "source": [
    "df[1]=df[1].astype(\"string\")"
   ]
  },
  {
   "cell_type": "code",
   "execution_count": 100,
   "id": "92d5b3b5",
   "metadata": {},
   "outputs": [],
   "source": [
    "df.loc[:,2:3]=df.loc[:,2:3].astype(\"float\")"
   ]
  },
  {
   "cell_type": "code",
   "execution_count": 101,
   "id": "40fdf621",
   "metadata": {},
   "outputs": [
    {
     "data": {
      "text/html": [
       "<div>\n",
       "<style scoped>\n",
       "    .dataframe tbody tr th:only-of-type {\n",
       "        vertical-align: middle;\n",
       "    }\n",
       "\n",
       "    .dataframe tbody tr th {\n",
       "        vertical-align: top;\n",
       "    }\n",
       "\n",
       "    .dataframe thead th {\n",
       "        text-align: right;\n",
       "    }\n",
       "</style>\n",
       "<table border=\"1\" class=\"dataframe\">\n",
       "  <thead>\n",
       "    <tr style=\"text-align: right;\">\n",
       "      <th></th>\n",
       "      <th>1</th>\n",
       "      <th>2</th>\n",
       "      <th>3</th>\n",
       "    </tr>\n",
       "  </thead>\n",
       "  <tbody>\n",
       "    <tr>\n",
       "      <th>11</th>\n",
       "      <td>Literacy Rate (%)</td>\n",
       "      <td>64.8</td>\n",
       "      <td>74.04</td>\n",
       "    </tr>\n",
       "    <tr>\n",
       "      <th>12</th>\n",
       "      <td>Male Literacy Rate (%)</td>\n",
       "      <td>75.3</td>\n",
       "      <td>82.14</td>\n",
       "    </tr>\n",
       "    <tr>\n",
       "      <th>13</th>\n",
       "      <td>Female Literacy Rate (%)</td>\n",
       "      <td>53.7</td>\n",
       "      <td>65.46</td>\n",
       "    </tr>\n",
       "  </tbody>\n",
       "</table>\n",
       "</div>"
      ],
      "text/plain": [
       "                           1     2      3\n",
       "11         Literacy Rate (%)  64.8  74.04\n",
       "12    Male Literacy Rate (%)  75.3  82.14\n",
       "13  Female Literacy Rate (%)  53.7  65.46"
      ]
     },
     "execution_count": 101,
     "metadata": {},
     "output_type": "execute_result"
    }
   ],
   "source": [
    "df"
   ]
  },
  {
   "cell_type": "code",
   "execution_count": 104,
   "id": "3b424e63",
   "metadata": {},
   "outputs": [
    {
     "data": {
      "text/html": [
       "<div>\n",
       "<style scoped>\n",
       "    .dataframe tbody tr th:only-of-type {\n",
       "        vertical-align: middle;\n",
       "    }\n",
       "\n",
       "    .dataframe tbody tr th {\n",
       "        vertical-align: top;\n",
       "    }\n",
       "\n",
       "    .dataframe thead th {\n",
       "        text-align: right;\n",
       "    }\n",
       "</style>\n",
       "<table border=\"1\" class=\"dataframe\">\n",
       "  <thead>\n",
       "    <tr style=\"text-align: right;\">\n",
       "      <th></th>\n",
       "      <th>0</th>\n",
       "      <th>1</th>\n",
       "      <th>2</th>\n",
       "    </tr>\n",
       "  </thead>\n",
       "  <tbody>\n",
       "    <tr>\n",
       "      <th>1</th>\n",
       "      <td>1\\nTotal Population (In Billions)</td>\n",
       "      <td>1.028</td>\n",
       "      <td>1.21</td>\n",
       "    </tr>\n",
       "    <tr>\n",
       "      <th>2</th>\n",
       "      <td>2\\nSex Ratio (females per 1000 males)</td>\n",
       "      <td>933</td>\n",
       "      <td>940</td>\n",
       "    </tr>\n",
       "    <tr>\n",
       "      <th>3</th>\n",
       "      <td>3\\nChild Sex Ratio  (females per 1000 males)</td>\n",
       "      <td>927</td>\n",
       "      <td>914</td>\n",
       "    </tr>\n",
       "  </tbody>\n",
       "</table>\n",
       "</div>"
      ],
      "text/plain": [
       "                                              0      1     2\n",
       "1             1\\nTotal Population (In Billions)  1.028  1.21\n",
       "2         2\\nSex Ratio (females per 1000 males)    933   940\n",
       "3  3\\nChild Sex Ratio  (females per 1000 males)    927   914"
      ]
     },
     "execution_count": 104,
     "metadata": {},
     "output_type": "execute_result"
    }
   ],
   "source": [
    "df2=my_tables_from_pdf[0].df.loc[1:3,0:2]\n",
    "df2"
   ]
  },
  {
   "cell_type": "code",
   "execution_count": 105,
   "id": "8eb93f80",
   "metadata": {},
   "outputs": [],
   "source": [
    "df2[0]=df2[0].astype(\"string\")"
   ]
  },
  {
   "cell_type": "code",
   "execution_count": 106,
   "id": "b2884587",
   "metadata": {},
   "outputs": [
    {
     "data": {
      "text/html": [
       "<div>\n",
       "<style scoped>\n",
       "    .dataframe tbody tr th:only-of-type {\n",
       "        vertical-align: middle;\n",
       "    }\n",
       "\n",
       "    .dataframe tbody tr th {\n",
       "        vertical-align: top;\n",
       "    }\n",
       "\n",
       "    .dataframe thead th {\n",
       "        text-align: right;\n",
       "    }\n",
       "</style>\n",
       "<table border=\"1\" class=\"dataframe\">\n",
       "  <thead>\n",
       "    <tr style=\"text-align: right;\">\n",
       "      <th></th>\n",
       "      <th>0</th>\n",
       "      <th>1</th>\n",
       "      <th>2</th>\n",
       "    </tr>\n",
       "  </thead>\n",
       "  <tbody>\n",
       "    <tr>\n",
       "      <th>1</th>\n",
       "      <td>1\n",
       "Total Population (In Billions)</td>\n",
       "      <td>1.028</td>\n",
       "      <td>1.21</td>\n",
       "    </tr>\n",
       "    <tr>\n",
       "      <th>2</th>\n",
       "      <td>2\n",
       "Sex Ratio (females per 1000 males)</td>\n",
       "      <td>933</td>\n",
       "      <td>940</td>\n",
       "    </tr>\n",
       "    <tr>\n",
       "      <th>3</th>\n",
       "      <td>3\n",
       "Child Sex Ratio  (females per 1000 males)</td>\n",
       "      <td>927</td>\n",
       "      <td>914</td>\n",
       "    </tr>\n",
       "  </tbody>\n",
       "</table>\n",
       "</div>"
      ],
      "text/plain": [
       "                                             0      1     2\n",
       "1             1\n",
       "Total Population (In Billions)  1.028  1.21\n",
       "2         2\n",
       "Sex Ratio (females per 1000 males)    933   940\n",
       "3  3\n",
       "Child Sex Ratio  (females per 1000 males)    927   914"
      ]
     },
     "execution_count": 106,
     "metadata": {},
     "output_type": "execute_result"
    }
   ],
   "source": [
    "df2"
   ]
  },
  {
   "cell_type": "code",
   "execution_count": 107,
   "id": "32537913",
   "metadata": {},
   "outputs": [
    {
     "data": {
      "text/html": [
       "<div>\n",
       "<style scoped>\n",
       "    .dataframe tbody tr th:only-of-type {\n",
       "        vertical-align: middle;\n",
       "    }\n",
       "\n",
       "    .dataframe tbody tr th {\n",
       "        vertical-align: top;\n",
       "    }\n",
       "\n",
       "    .dataframe thead th {\n",
       "        text-align: right;\n",
       "    }\n",
       "</style>\n",
       "<table border=\"1\" class=\"dataframe\">\n",
       "  <thead>\n",
       "    <tr style=\"text-align: right;\">\n",
       "      <th></th>\n",
       "      <th>0</th>\n",
       "      <th>1</th>\n",
       "      <th>2</th>\n",
       "    </tr>\n",
       "  </thead>\n",
       "  <tbody>\n",
       "    <tr>\n",
       "      <th>1</th>\n",
       "      <td>1\n",
       "Total Population (In Billions)</td>\n",
       "      <td>1.028</td>\n",
       "      <td>1.21</td>\n",
       "    </tr>\n",
       "    <tr>\n",
       "      <th>2</th>\n",
       "      <td>2\n",
       "Sex Ratio (females per 1000 males)</td>\n",
       "      <td>933.000</td>\n",
       "      <td>940.00</td>\n",
       "    </tr>\n",
       "    <tr>\n",
       "      <th>3</th>\n",
       "      <td>3\n",
       "Child Sex Ratio  (females per 1000 males)</td>\n",
       "      <td>927.000</td>\n",
       "      <td>914.00</td>\n",
       "    </tr>\n",
       "  </tbody>\n",
       "</table>\n",
       "</div>"
      ],
      "text/plain": [
       "                                             0        1       2\n",
       "1             1\n",
       "Total Population (In Billions)    1.028    1.21\n",
       "2         2\n",
       "Sex Ratio (females per 1000 males)  933.000  940.00\n",
       "3  3\n",
       "Child Sex Ratio  (females per 1000 males)  927.000  914.00"
      ]
     },
     "execution_count": 107,
     "metadata": {},
     "output_type": "execute_result"
    }
   ],
   "source": [
    "df2.loc[:,1:2]=df2.loc[:,1:2].astype(\"float\")\n",
    "df2"
   ]
  },
  {
   "cell_type": "code",
   "execution_count": 108,
   "id": "a87d1f94",
   "metadata": {},
   "outputs": [
    {
     "data": {
      "text/plain": [
       "float64    2\n",
       "string     1\n",
       "dtype: int64"
      ]
     },
     "execution_count": 108,
     "metadata": {},
     "output_type": "execute_result"
    }
   ],
   "source": [
    "df2.dtypes.value_counts()"
   ]
  },
  {
   "cell_type": "code",
   "execution_count": 110,
   "id": "0f4ff9f4",
   "metadata": {},
   "outputs": [
    {
     "data": {
      "text/plain": [
       "0     string\n",
       "1    float64\n",
       "2    float64\n",
       "dtype: object"
      ]
     },
     "execution_count": 110,
     "metadata": {},
     "output_type": "execute_result"
    }
   ],
   "source": [
    "df2.infer_objects().dtypes"
   ]
  },
  {
   "cell_type": "code",
   "execution_count": 112,
   "id": "a1ee94d7",
   "metadata": {},
   "outputs": [
    {
     "data": {
      "text/plain": [
       "1     string\n",
       "2    float64\n",
       "3    float64\n",
       "dtype: object"
      ]
     },
     "execution_count": 112,
     "metadata": {},
     "output_type": "execute_result"
    }
   ],
   "source": [
    "df.dtypes"
   ]
  },
  {
   "cell_type": "code",
   "execution_count": 113,
   "id": "0044c20c",
   "metadata": {},
   "outputs": [
    {
     "data": {
      "text/plain": [
       "1     string\n",
       "2    float64\n",
       "3    float64\n",
       "dtype: object"
      ]
     },
     "execution_count": 113,
     "metadata": {},
     "output_type": "execute_result"
    }
   ],
   "source": [
    "df.infer_objects().dtypes"
   ]
  },
  {
   "cell_type": "markdown",
   "id": "3e5b548a",
   "metadata": {},
   "source": [
    "**NOTE:** The below references were used for the pandas.DataFrame methods\n",
    "- astype()-https://pandas.pydata.org/pandas-docs/stable/user_guide/basics.html#astype\n",
    "- infer_objects()-https://pandas.pydata.org/pandas-docs/stable/user_guide/basics.html#object-conversion\n",
    "- value_counts()-https://pandas.pydata.org/pandas-docs/stable/user_guide/basics.html#dtypes\n",
    "- string dtype-https://pandas.pydata.org/pandas-docs/stable/user_guide/text.html#text-data-types"
   ]
  },
  {
   "cell_type": "code",
   "execution_count": 111,
   "id": "229a5c9b",
   "metadata": {},
   "outputs": [
    {
     "data": {
      "text/html": [
       "<div>\n",
       "<style scoped>\n",
       "    .dataframe tbody tr th:only-of-type {\n",
       "        vertical-align: middle;\n",
       "    }\n",
       "\n",
       "    .dataframe tbody tr th {\n",
       "        vertical-align: top;\n",
       "    }\n",
       "\n",
       "    .dataframe thead th {\n",
       "        text-align: right;\n",
       "    }\n",
       "</style>\n",
       "<table border=\"1\" class=\"dataframe\">\n",
       "  <thead>\n",
       "    <tr style=\"text-align: right;\">\n",
       "      <th></th>\n",
       "      <th>1</th>\n",
       "      <th>2</th>\n",
       "      <th>3</th>\n",
       "    </tr>\n",
       "  </thead>\n",
       "  <tbody>\n",
       "    <tr>\n",
       "      <th>11</th>\n",
       "      <td>Literacy Rate (%)</td>\n",
       "      <td>64.8</td>\n",
       "      <td>74.04</td>\n",
       "    </tr>\n",
       "    <tr>\n",
       "      <th>12</th>\n",
       "      <td>Male Literacy Rate (%)</td>\n",
       "      <td>75.3</td>\n",
       "      <td>82.14</td>\n",
       "    </tr>\n",
       "    <tr>\n",
       "      <th>13</th>\n",
       "      <td>Female Literacy Rate (%)</td>\n",
       "      <td>53.7</td>\n",
       "      <td>65.46</td>\n",
       "    </tr>\n",
       "  </tbody>\n",
       "</table>\n",
       "</div>"
      ],
      "text/plain": [
       "                           1     2      3\n",
       "11         Literacy Rate (%)  64.8  74.04\n",
       "12    Male Literacy Rate (%)  75.3  82.14\n",
       "13  Female Literacy Rate (%)  53.7  65.46"
      ]
     },
     "execution_count": 111,
     "metadata": {},
     "output_type": "execute_result"
    }
   ],
   "source": [
    "df"
   ]
  },
  {
   "cell_type": "code",
   "execution_count": 116,
   "id": "5ccb0913",
   "metadata": {},
   "outputs": [],
   "source": [
    "df=df.reset_index(drop=True)"
   ]
  },
  {
   "cell_type": "code",
   "execution_count": 117,
   "id": "80d49f86",
   "metadata": {},
   "outputs": [
    {
     "data": {
      "text/html": [
       "<div>\n",
       "<style scoped>\n",
       "    .dataframe tbody tr th:only-of-type {\n",
       "        vertical-align: middle;\n",
       "    }\n",
       "\n",
       "    .dataframe tbody tr th {\n",
       "        vertical-align: top;\n",
       "    }\n",
       "\n",
       "    .dataframe thead th {\n",
       "        text-align: right;\n",
       "    }\n",
       "</style>\n",
       "<table border=\"1\" class=\"dataframe\">\n",
       "  <thead>\n",
       "    <tr style=\"text-align: right;\">\n",
       "      <th></th>\n",
       "      <th>KPI</th>\n",
       "      <th>2001</th>\n",
       "      <th>2011</th>\n",
       "    </tr>\n",
       "  </thead>\n",
       "  <tbody>\n",
       "    <tr>\n",
       "      <th>0</th>\n",
       "      <td>Literacy Rate (%)</td>\n",
       "      <td>64.8</td>\n",
       "      <td>74.04</td>\n",
       "    </tr>\n",
       "    <tr>\n",
       "      <th>1</th>\n",
       "      <td>Male Literacy Rate (%)</td>\n",
       "      <td>75.3</td>\n",
       "      <td>82.14</td>\n",
       "    </tr>\n",
       "    <tr>\n",
       "      <th>2</th>\n",
       "      <td>Female Literacy Rate (%)</td>\n",
       "      <td>53.7</td>\n",
       "      <td>65.46</td>\n",
       "    </tr>\n",
       "  </tbody>\n",
       "</table>\n",
       "</div>"
      ],
      "text/plain": [
       "                        KPI  2001   2011\n",
       "0         Literacy Rate (%)  64.8  74.04\n",
       "1    Male Literacy Rate (%)  75.3  82.14\n",
       "2  Female Literacy Rate (%)  53.7  65.46"
      ]
     },
     "execution_count": 117,
     "metadata": {},
     "output_type": "execute_result"
    }
   ],
   "source": [
    "df.columns=['KPI','2001','2011']\n",
    "df"
   ]
  },
  {
   "cell_type": "code",
   "execution_count": 118,
   "id": "c4152d34",
   "metadata": {},
   "outputs": [
    {
     "data": {
      "text/plain": [
       "KPI      string\n",
       "2001    float64\n",
       "2011    float64\n",
       "dtype: object"
      ]
     },
     "execution_count": 118,
     "metadata": {},
     "output_type": "execute_result"
    }
   ],
   "source": [
    "df.dtypes"
   ]
  },
  {
   "cell_type": "code",
   "execution_count": 119,
   "id": "6e6378b2",
   "metadata": {},
   "outputs": [],
   "source": [
    "df.to_csv('kpi_report.csv')"
   ]
  },
  {
   "cell_type": "code",
   "execution_count": 120,
   "id": "bccfc73a",
   "metadata": {},
   "outputs": [
    {
     "name": "stdout",
     "output_type": "stream",
     "text": [
      "Automation_with_Python_Tutorial(freeCodeCamp).ipynb\r\n",
      "Practice Runs 1.ipynb\r\n",
      "Practice Runs 2.ipynb\r\n",
      "Practice Runs 3.ipynb\r\n",
      "README.md\r\n",
      "Tic Tac Toe.ipynb\r\n",
      "india_factsheet_economic_n_hdi.pdf\r\n",
      "ken_robinson_says_schools_kill_creativity.mp4\r\n",
      "kpi_report.csv\r\n"
     ]
    }
   ],
   "source": [
    "ls"
   ]
  },
  {
   "cell_type": "code",
   "execution_count": 121,
   "id": "0319e982",
   "metadata": {},
   "outputs": [],
   "source": [
    "df.to_excel('kpi_report.xlsx')"
   ]
  },
  {
   "cell_type": "code",
   "execution_count": 122,
   "id": "75d76b3a",
   "metadata": {},
   "outputs": [
    {
     "name": "stdout",
     "output_type": "stream",
     "text": [
      "Automation_with_Python_Tutorial(freeCodeCamp).ipynb\r\n",
      "Practice Runs 1.ipynb\r\n",
      "Practice Runs 2.ipynb\r\n",
      "Practice Runs 3.ipynb\r\n",
      "README.md\r\n",
      "Tic Tac Toe.ipynb\r\n",
      "india_factsheet_economic_n_hdi.pdf\r\n",
      "ken_robinson_says_schools_kill_creativity.mp4\r\n",
      "kpi_report.csv\r\n",
      "kpi_report.xlsx\r\n"
     ]
    }
   ],
   "source": [
    "ls"
   ]
  },
  {
   "cell_type": "code",
   "execution_count": 123,
   "id": "7d643563",
   "metadata": {},
   "outputs": [
    {
     "data": {
      "text/html": [
       "<div>\n",
       "<style scoped>\n",
       "    .dataframe tbody tr th:only-of-type {\n",
       "        vertical-align: middle;\n",
       "    }\n",
       "\n",
       "    .dataframe tbody tr th {\n",
       "        vertical-align: top;\n",
       "    }\n",
       "\n",
       "    .dataframe thead th {\n",
       "        text-align: right;\n",
       "    }\n",
       "</style>\n",
       "<table border=\"1\" class=\"dataframe\">\n",
       "  <thead>\n",
       "    <tr style=\"text-align: right;\">\n",
       "      <th></th>\n",
       "      <th>Unnamed: 0</th>\n",
       "      <th>KPI</th>\n",
       "      <th>2001</th>\n",
       "      <th>2011</th>\n",
       "    </tr>\n",
       "  </thead>\n",
       "  <tbody>\n",
       "    <tr>\n",
       "      <th>0</th>\n",
       "      <td>0</td>\n",
       "      <td>Literacy Rate (%)</td>\n",
       "      <td>64.8</td>\n",
       "      <td>74.04</td>\n",
       "    </tr>\n",
       "    <tr>\n",
       "      <th>1</th>\n",
       "      <td>1</td>\n",
       "      <td>Male Literacy Rate (%)</td>\n",
       "      <td>75.3</td>\n",
       "      <td>82.14</td>\n",
       "    </tr>\n",
       "    <tr>\n",
       "      <th>2</th>\n",
       "      <td>2</td>\n",
       "      <td>Female Literacy Rate (%)</td>\n",
       "      <td>53.7</td>\n",
       "      <td>65.46</td>\n",
       "    </tr>\n",
       "  </tbody>\n",
       "</table>\n",
       "</div>"
      ],
      "text/plain": [
       "   Unnamed: 0                       KPI  2001   2011\n",
       "0           0         Literacy Rate (%)  64.8  74.04\n",
       "1           1    Male Literacy Rate (%)  75.3  82.14\n",
       "2           2  Female Literacy Rate (%)  53.7  65.46"
      ]
     },
     "execution_count": 123,
     "metadata": {},
     "output_type": "execute_result"
    }
   ],
   "source": [
    "import pandas as pd\n",
    "df3=pd.read_csv('kpi_report.csv')\n",
    "df3# without index_col, it uses the default row labels"
   ]
  },
  {
   "cell_type": "code",
   "execution_count": 124,
   "id": "7c808135",
   "metadata": {},
   "outputs": [],
   "source": [
    "df4=pd.read_csv('kpi_report.csv',index_col=0)"
   ]
  },
  {
   "cell_type": "code",
   "execution_count": 125,
   "id": "efdc672e",
   "metadata": {},
   "outputs": [
    {
     "data": {
      "text/html": [
       "<div>\n",
       "<style scoped>\n",
       "    .dataframe tbody tr th:only-of-type {\n",
       "        vertical-align: middle;\n",
       "    }\n",
       "\n",
       "    .dataframe tbody tr th {\n",
       "        vertical-align: top;\n",
       "    }\n",
       "\n",
       "    .dataframe thead th {\n",
       "        text-align: right;\n",
       "    }\n",
       "</style>\n",
       "<table border=\"1\" class=\"dataframe\">\n",
       "  <thead>\n",
       "    <tr style=\"text-align: right;\">\n",
       "      <th></th>\n",
       "      <th>KPI</th>\n",
       "      <th>2001</th>\n",
       "      <th>2011</th>\n",
       "    </tr>\n",
       "  </thead>\n",
       "  <tbody>\n",
       "    <tr>\n",
       "      <th>0</th>\n",
       "      <td>Literacy Rate (%)</td>\n",
       "      <td>64.8</td>\n",
       "      <td>74.04</td>\n",
       "    </tr>\n",
       "    <tr>\n",
       "      <th>1</th>\n",
       "      <td>Male Literacy Rate (%)</td>\n",
       "      <td>75.3</td>\n",
       "      <td>82.14</td>\n",
       "    </tr>\n",
       "    <tr>\n",
       "      <th>2</th>\n",
       "      <td>Female Literacy Rate (%)</td>\n",
       "      <td>53.7</td>\n",
       "      <td>65.46</td>\n",
       "    </tr>\n",
       "  </tbody>\n",
       "</table>\n",
       "</div>"
      ],
      "text/plain": [
       "                        KPI  2001   2011\n",
       "0         Literacy Rate (%)  64.8  74.04\n",
       "1    Male Literacy Rate (%)  75.3  82.14\n",
       "2  Female Literacy Rate (%)  53.7  65.46"
      ]
     },
     "execution_count": 125,
     "metadata": {},
     "output_type": "execute_result"
    }
   ],
   "source": [
    "df4# with index_col set to the column(integer or string), it uses the values in that column as row labels"
   ]
  },
  {
   "cell_type": "markdown",
   "id": "6e879006",
   "metadata": {},
   "source": [
    "**Referrence -** https://pandas.pydata.org/pandas-docs/stable/reference/api/pandas.read_csv.html#pandas.read_csv"
   ]
  },
  {
   "cell_type": "code",
   "execution_count": 127,
   "id": "3003f8cc",
   "metadata": {},
   "outputs": [],
   "source": [
    "import seaborn as sns"
   ]
  },
  {
   "cell_type": "markdown",
   "id": "ce3e9c41",
   "metadata": {},
   "source": [
    "**Importing Seaborn and Creating Visualization-** https://seaborn.pydata.org/introduction.html#our-first-seaborn-plot"
   ]
  },
  {
   "cell_type": "markdown",
   "id": "47ca94d8",
   "metadata": {},
   "source": [
    "## Wide-form Data"
   ]
  },
  {
   "cell_type": "code",
   "execution_count": 131,
   "id": "36f159e3",
   "metadata": {},
   "outputs": [
    {
     "data": {
      "text/plain": [
       "<AxesSubplot:>"
      ]
     },
     "execution_count": 131,
     "metadata": {},
     "output_type": "execute_result"
    },
    {
     "data": {
      "image/png": "[encoded data removed]",
      "text/plain": [
       "<Figure size 432x288 with 1 Axes>"
      ]
     },
     "metadata": {
      "needs_background": "light"
     },
     "output_type": "display_data"
    }
   ],
   "source": [
    "sns.barplot(data=df4)"
   ]
  },
  {
   "cell_type": "markdown",
   "id": "8b7047a8",
   "metadata": {},
   "source": [
    "## Long-form Data"
   ]
  },
  {
   "cell_type": "code",
   "execution_count": 132,
   "id": "3e56cedf",
   "metadata": {},
   "outputs": [],
   "source": [
    "# needs wide-form data to be converted to long-form data\n",
    "df_melted=df4.melt(id_vars='KPI',value_vars=['2001','2011'],var_name='year',value_name='percentage')"
   ]
  },
  {
   "cell_type": "markdown",
   "id": "bf128cb0",
   "metadata": {},
   "source": [
    "**Referrences -**\n",
    "- About Long & Wide form data - https://seaborn.pydata.org/tutorial/data_structure.html\n",
    "- DataFrame.melt() - https://pandas.pydata.org/pandas-docs/stable/reference/api/pandas.DataFrame.melt.html#pandas.DataFrame.melt"
   ]
  },
  {
   "cell_type": "code",
   "execution_count": 133,
   "id": "dd3eb903",
   "metadata": {},
   "outputs": [
    {
     "data": {
      "text/html": [
       "<div>\n",
       "<style scoped>\n",
       "    .dataframe tbody tr th:only-of-type {\n",
       "        vertical-align: middle;\n",
       "    }\n",
       "\n",
       "    .dataframe tbody tr th {\n",
       "        vertical-align: top;\n",
       "    }\n",
       "\n",
       "    .dataframe thead th {\n",
       "        text-align: right;\n",
       "    }\n",
       "</style>\n",
       "<table border=\"1\" class=\"dataframe\">\n",
       "  <thead>\n",
       "    <tr style=\"text-align: right;\">\n",
       "      <th></th>\n",
       "      <th>KPI</th>\n",
       "      <th>year</th>\n",
       "      <th>percentage</th>\n",
       "    </tr>\n",
       "  </thead>\n",
       "  <tbody>\n",
       "    <tr>\n",
       "      <th>0</th>\n",
       "      <td>Literacy Rate (%)</td>\n",
       "      <td>2001</td>\n",
       "      <td>64.80</td>\n",
       "    </tr>\n",
       "    <tr>\n",
       "      <th>1</th>\n",
       "      <td>Male Literacy Rate (%)</td>\n",
       "      <td>2001</td>\n",
       "      <td>75.30</td>\n",
       "    </tr>\n",
       "    <tr>\n",
       "      <th>2</th>\n",
       "      <td>Female Literacy Rate (%)</td>\n",
       "      <td>2001</td>\n",
       "      <td>53.70</td>\n",
       "    </tr>\n",
       "    <tr>\n",
       "      <th>3</th>\n",
       "      <td>Literacy Rate (%)</td>\n",
       "      <td>2011</td>\n",
       "      <td>74.04</td>\n",
       "    </tr>\n",
       "    <tr>\n",
       "      <th>4</th>\n",
       "      <td>Male Literacy Rate (%)</td>\n",
       "      <td>2011</td>\n",
       "      <td>82.14</td>\n",
       "    </tr>\n",
       "    <tr>\n",
       "      <th>5</th>\n",
       "      <td>Female Literacy Rate (%)</td>\n",
       "      <td>2011</td>\n",
       "      <td>65.46</td>\n",
       "    </tr>\n",
       "  </tbody>\n",
       "</table>\n",
       "</div>"
      ],
      "text/plain": [
       "                        KPI  year  percentage\n",
       "0         Literacy Rate (%)  2001       64.80\n",
       "1    Male Literacy Rate (%)  2001       75.30\n",
       "2  Female Literacy Rate (%)  2001       53.70\n",
       "3         Literacy Rate (%)  2011       74.04\n",
       "4    Male Literacy Rate (%)  2011       82.14\n",
       "5  Female Literacy Rate (%)  2011       65.46"
      ]
     },
     "execution_count": 133,
     "metadata": {},
     "output_type": "execute_result"
    }
   ],
   "source": [
    "df_melted"
   ]
  },
  {
   "cell_type": "code",
   "execution_count": 137,
   "id": "3f2145d6",
   "metadata": {},
   "outputs": [
    {
     "data": {
      "text/plain": [
       "<AxesSubplot:xlabel='year', ylabel='percentage'>"
      ]
     },
     "execution_count": 137,
     "metadata": {},
     "output_type": "execute_result"
    },
    {
     "data": {
      "image/png": "[encoded data removed]",
      "text/plain": [
       "<Figure size 432x288 with 1 Axes>"
      ]
     },
     "metadata": {
      "needs_background": "light"
     },
     "output_type": "display_data"
    }
   ],
   "source": [
    "sns.barplot(data=df_melted,x='year',y='percentage',hue='KPI')"
   ]
  },
  {
   "cell_type": "code",
   "execution_count": 139,
   "id": "5c58c048",
   "metadata": {},
   "outputs": [
    {
     "data": {
      "text/plain": [
       "<AxesSubplot:xlabel='percentage', ylabel='year'>"
      ]
     },
     "execution_count": 139,
     "metadata": {},
     "output_type": "execute_result"
    },
    {
     "data": {
      "image/png": "[encoded data removed]",
      "text/plain": [
       "<Figure size 432x288 with 1 Axes>"
      ]
     },
     "metadata": {
      "needs_background": "light"
     },
     "output_type": "display_data"
    }
   ],
   "source": [
    "sns.barplot(data=df_melted,x='percentage',y='year',hue='KPI')"
   ]
  },
  {
   "cell_type": "code",
   "execution_count": 140,
   "id": "f53641df",
   "metadata": {},
   "outputs": [
    {
     "data": {
      "text/plain": [
       "<AxesSubplot:xlabel='KPI', ylabel='percentage'>"
      ]
     },
     "execution_count": 140,
     "metadata": {},
     "output_type": "execute_result"
    },
    {
     "data": {
      "image/png": "[encoded data removed]",
      "text/plain": [
       "<Figure size 432x288 with 1 Axes>"
      ]
     },
     "metadata": {
      "needs_background": "light"
     },
     "output_type": "display_data"
    }
   ],
   "source": [
    "sns.barplot(data=df_melted,x='KPI',y='percentage',hue='year')"
   ]
  },
  {
   "cell_type": "markdown",
   "id": "2bca91b3",
   "metadata": {},
   "source": [
    "# Resume Parser"
   ]
  },
  {
   "cell_type": "markdown",
   "id": "6efd1b32",
   "metadata": {},
   "source": [
    "## Spacy Basics"
   ]
  },
  {
   "cell_type": "markdown",
   "id": "c77c6fb6",
   "metadata": {},
   "source": [
    "### Importing spaCy"
   ]
  },
  {
   "cell_type": "code",
   "execution_count": 146,
   "id": "d187fd4f",
   "metadata": {},
   "outputs": [
    {
     "data": {
      "text/plain": [
       "Hello World"
      ]
     },
     "execution_count": 146,
     "metadata": {},
     "output_type": "execute_result"
    }
   ],
   "source": [
    "# Importing spacey\n",
    "import spacy\n",
    "\n",
    "# loading English language model\n",
    "nlp=spacy.load('en_core_web_sm')\n",
    "\n",
    "# below is the spacy recommended way\n",
    "\n",
    "# import en_core_web_sm\n",
    "# nlp=en_core_web_sm.load()\n",
    "\n",
    "text='Hello World'\n",
    "\n",
    "doc=nlp(text)\n",
    "# You can directly provide the string in nlp like below\n",
    "# doc=nlp('Hello World')\n",
    "\n",
    "doc"
   ]
  },
  {
   "cell_type": "markdown",
   "id": "25ef7cc5",
   "metadata": {},
   "source": [
    "**Note:** The below also works but there is a difference.\n",
    "Read more about it [here](https://stackoverflow.com/a/58234065)\n",
    "\n",
    "`from spacey.lang.en import English`\n",
    "\n",
    "`nlp=English()`"
   ]
  },
  {
   "cell_type": "markdown",
   "id": "fedcbcf0",
   "metadata": {},
   "source": [
    "### Tokenization"
   ]
  },
  {
   "cell_type": "code",
   "execution_count": 147,
   "id": "6df57c5b",
   "metadata": {},
   "outputs": [
    {
     "name": "stdout",
     "output_type": "stream",
     "text": [
      "Hello\n",
      "World\n"
     ]
    }
   ],
   "source": [
    "# tokens are mostly words or puntuations\n",
    "\n",
    "for token in doc:\n",
    "    print(token)"
   ]
  },
  {
   "cell_type": "markdown",
   "id": "5294958a",
   "metadata": {},
   "source": [
    "### Lexical Attributes"
   ]
  },
  {
   "cell_type": "code",
   "execution_count": 151,
   "id": "0a5e39ce",
   "metadata": {},
   "outputs": [
    {
     "name": "stdout",
     "output_type": "stream",
     "text": [
      "Google : PROPN = proper noun\n",
      "was : AUX = auxiliary\n",
      "initially : ADV = adverb\n",
      "funded : VERB = verb\n",
      "by : ADP = adposition\n",
      "an : DET = determiner\n",
      "August : PROPN = proper noun\n",
      "1998 : NUM = numeral\n",
      "contribution : NOUN = noun\n",
      "of : ADP = adposition\n",
      "$ : SYM = symbol\n",
      "100,000 : NUM = numeral\n",
      "from : ADP = adposition\n",
      "Andy : PROPN = proper noun\n",
      "Bechtolsheim : PROPN = proper noun\n",
      ", : PUNCT = punctuation\n",
      "co : NOUN = noun\n",
      "- : NOUN = noun\n",
      "founder : NOUN = noun\n",
      "of : ADP = adposition\n",
      "Sun : PROPN = proper noun\n",
      "Microsystems : PROPN = proper noun\n"
     ]
    }
   ],
   "source": [
    "text2='Google was initially funded by an August 1998 contribution of $100,000 from Andy Bechtolsheim, co-founder of Sun Microsystems'\n",
    "\n",
    "doc2=nlp(text2)\n",
    "\n",
    "# This will print all the part-of-speech of the tokens\n",
    "for token in doc2:\n",
    "    print(token.text+' : '+ token.pos_+' = '+ spacy.explain(token.pos_))"
   ]
  },
  {
   "cell_type": "markdown",
   "id": "635368c1",
   "metadata": {},
   "source": [
    "**Referrence**\n",
    "- https://spacy.io/usage/spacy-101#annotations-pos-deps\n",
    "- https://spacy.io/api/token#attributes\n",
    "- https://pythonwife.com/lexical-attributes-in-spacy/"
   ]
  },
  {
   "cell_type": "markdown",
   "id": "e77d2736",
   "metadata": {},
   "source": [
    "### Named Entites"
   ]
  },
  {
   "cell_type": "code",
   "execution_count": 157,
   "id": "51c8a49a",
   "metadata": {},
   "outputs": [
    {
     "name": "stdout",
     "output_type": "stream",
     "text": [
      "Apple\tORG : Companies, agencies, institutions, etc.\n",
      "U.K.\tGPE : Countries, cities, states\n",
      "$1 billion\tMONEY : Monetary values, including unit\n"
     ]
    }
   ],
   "source": [
    "doc3=nlp('Apple is looking at buying U.K. startup for $1 billion')\n",
    "for ent in doc3.ents:\n",
    "    print(ent.text+'\\t'+ ent.label_+' : '+ spacy.explain(ent.label_))"
   ]
  },
  {
   "cell_type": "markdown",
   "id": "18a921ab",
   "metadata": {},
   "source": [
    "**Referrence**\n",
    "- https://spacy.io/api/doc#ents\n",
    "- https://spacy.io/usage/spacy-101#annotations-ner"
   ]
  },
  {
   "cell_type": "markdown",
   "id": "42f79910",
   "metadata": {},
   "source": [
    "## Resume Parsing"
   ]
  },
  {
   "cell_type": "code",
   "execution_count": 284,
   "id": "494f3659",
   "metadata": {},
   "outputs": [],
   "source": [
    "# importing required packages\n",
    "import spacy # nlp\n",
    "import pandas as pd # df and csv\n",
    "import os # file path handling\n",
    "import re # regular expresiion for pattern matching\n",
    "from pdfminer.high_level import extract_text # pdf to text"
   ]
  },
  {
   "cell_type": "markdown",
   "id": "e6a2711e",
   "metadata": {},
   "source": [
    "**Note:** Before proceeding further, check in your **working directory** if these 3 filepaths are present\n",
    "- outputs/txt\n",
    "- outputs/csv\n",
    "- resumes/"
   ]
  },
  {
   "cell_type": "code",
   "execution_count": 285,
   "id": "8ca2e725",
   "metadata": {},
   "outputs": [],
   "source": [
    "nlp=spacy.load('en_core_web_sm')"
   ]
  },
  {
   "cell_type": "code",
   "execution_count": 286,
   "id": "94697185",
   "metadata": {},
   "outputs": [],
   "source": [
    "dict_vals={'names':[], 'emails':[], 'phone_nos':[], 'skill_sets':[]}\n",
    "names=[]\n",
    "emails=[]\n",
    "phone_nos=[]\n",
    "skill_sets=[]"
   ]
  },
  {
   "cell_type": "code",
   "execution_count": 287,
   "id": "f9b9ad36",
   "metadata": {},
   "outputs": [],
   "source": [
    "def convert_pdf_to_text(resume_file_path):\n",
    "    \"\"\"\n",
    "    Converts pdf file to text file and saves it in /outputs/txt/\n",
    "    \"\"\"\n",
    "    temp_file_name=os.path.basename(resume_file_path)\n",
    "    output_file_name=os.path.splitext(temp_file_name)[0]+'.txt'\n",
    "    print(f'This will be the text file {output_file_name}...\\n')\n",
    "    output_file_path=os.path.join('outputs/txt/',output_file_name)\n",
    "    print('Extracting File...\\n')\n",
    "    with open(output_file_path,'wt') as f:\n",
    "        f.write(extract_text(resume_file_path))\n",
    "    return output_file_path"
   ]
  },
  {
   "cell_type": "code",
   "execution_count": 288,
   "id": "417160da",
   "metadata": {},
   "outputs": [],
   "source": [
    "def parse_text(text_to_parse):\n",
    "    \"\"\"\n",
    "    Parses text and stores name in names list, emails in emails list, phone numbers in phone_nos list\n",
    "    and unique skills in skill_sets list.\n",
    "    \n",
    "    So make sure to create these 4 lists.\n",
    "    \"\"\"\n",
    "    print('Parsing the file...\\n')\n",
    "    doc=nlp(text_to_parse)\n",
    "    name=[ent.text for ent in doc.ents if ent.label_==\"PERSON\"][0]\n",
    "    print(name)\n",
    "    print('\\n')\n",
    "    email=[token.text for token in doc if token.like_email==True][0]\n",
    "    print(email)\n",
    "    print('\\n')\n",
    "    \n",
    "    # Phone number\n",
    "    phone=re.findall('(\\d{3}[-\\.\\s]??\\d{3}[-\\.\\s]??\\d{4}|\\(\\d{3}\\)\\s*\\d{3}[-\\.\\s]??\\d{4}|\\d{3}[-\\.\\s]??\\d{4})'\n",
    "                     , text_to_parse.lower())\n",
    "    # The pattern is from https://stackoverflow.com/a/3868861\n",
    "    \n",
    "    # Skills\n",
    "    skills=re.findall('java|python|html|css|sql|hadoop|tableau', text_to_parse.lower())\n",
    "    # since there might be duplicate strings for skills in both skills section and project section or courses section\n",
    "    # in the resume, so set() method is used to remove duplicate strings \n",
    "    skill_set=str(set(skills))\n",
    "    \n",
    "    names.append(name)\n",
    "    emails.append(email)\n",
    "    phone_nos.append(phone)\n",
    "    skill_sets.append(skill_set)"
   ]
  },
  {
   "cell_type": "code",
   "execution_count": null,
   "id": "3b6e3e1f",
   "metadata": {},
   "outputs": [],
   "source": []
  },
  {
   "cell_type": "code",
   "execution_count": 289,
   "id": "45390ced",
   "metadata": {},
   "outputs": [
    {
     "name": "stdout",
     "output_type": "stream",
     "text": [
      "Alisson ParkerCV.pdf found...\n",
      "\n",
      "This will be the text file Alisson ParkerCV.txt...\n",
      "\n",
      "Extracting File...\n",
      "\n",
      "Extraction Completed...\n",
      "\n",
      "Parsing the file...\n",
      "\n",
      "Alisson Parker-Wright                                                                                                 \n",
      "alli1414parks@mail.com\n",
      "Parsing completed...\n",
      "\n",
      "John DominicCV.pdf found...\n",
      "\n",
      "This will be the text file John DominicCV.txt...\n",
      "\n",
      "Extracting File...\n",
      "\n",
      "Extraction Completed...\n",
      "\n",
      "Parsing the file...\n",
      "\n",
      "John Dominic\n",
      "johndominic@mail.com\n",
      "Parsing completed...\n",
      "\n",
      "AshleyMilesCV.pdf found...\n",
      "\n",
      "This will be the text file AshleyMilesCV.txt...\n",
      "\n",
      "Extracting File...\n",
      "\n",
      "Extraction Completed...\n",
      "\n",
      "Parsing the file...\n",
      "\n",
      "Ashley Miles\n",
      "ashleymiles@memail.com\n",
      "Parsing completed...\n",
      "\n"
     ]
    }
   ],
   "source": [
    "for file in os.listdir(path='resumes/'):\n",
    "    if file.endswith('.pdf'):\n",
    "        print(f'{file} found...\\n')\n",
    "        output_file_loc=convert_pdf_to_text(os.path.join(\"resumes/\",file))\n",
    "        print('Extraction Completed...\\n')\n",
    "        with open(output_file_loc,'rt') as f:\n",
    "            parse_text(f.read())\n",
    "        print('Parsing completed...\\n')"
   ]
  },
  {
   "cell_type": "code",
   "execution_count": 290,
   "id": "09a16ddf",
   "metadata": {},
   "outputs": [],
   "source": [
    "dict_vals['names']=names\n",
    "dict_vals['emails']=emails\n",
    "dict_vals['phone_nos']=phone_nos\n",
    "dict_vals['skill_sets']=skill_sets"
   ]
  },
  {
   "cell_type": "code",
   "execution_count": 291,
   "id": "4fe662c0",
   "metadata": {},
   "outputs": [],
   "source": [
    "df=pd.DataFrame(dict_vals)"
   ]
  },
  {
   "cell_type": "code",
   "execution_count": 292,
   "id": "f9012829",
   "metadata": {},
   "outputs": [
    {
     "data": {
      "text/html": [
       "<div>\n",
       "<style scoped>\n",
       "    .dataframe tbody tr th:only-of-type {\n",
       "        vertical-align: middle;\n",
       "    }\n",
       "\n",
       "    .dataframe tbody tr th {\n",
       "        vertical-align: top;\n",
       "    }\n",
       "\n",
       "    .dataframe thead th {\n",
       "        text-align: right;\n",
       "    }\n",
       "</style>\n",
       "<table border=\"1\" class=\"dataframe\">\n",
       "  <thead>\n",
       "    <tr style=\"text-align: right;\">\n",
       "      <th></th>\n",
       "      <th>names</th>\n",
       "      <th>emails</th>\n",
       "      <th>phone_nos</th>\n",
       "      <th>skill_sets</th>\n",
       "    </tr>\n",
       "  </thead>\n",
       "  <tbody>\n",
       "    <tr>\n",
       "      <th>0</th>\n",
       "      <td>Alisson Parker-Wright                         ...</td>\n",
       "      <td>alli1414parks@mail.com</td>\n",
       "      <td>[8569878511]</td>\n",
       "      <td>{'tableau', 'python', 'java'}</td>\n",
       "    </tr>\n",
       "    <tr>\n",
       "      <th>1</th>\n",
       "      <td>John Dominic</td>\n",
       "      <td>johndominic@mail.com</td>\n",
       "      <td>[7877756411]</td>\n",
       "      <td>{'python', 'java', 'hadoop'}</td>\n",
       "    </tr>\n",
       "    <tr>\n",
       "      <th>2</th>\n",
       "      <td>Ashley Miles</td>\n",
       "      <td>ashleymiles@memail.com</td>\n",
       "      <td>[6592251422]</td>\n",
       "      <td>{'tableau', 'sql'}</td>\n",
       "    </tr>\n",
       "  </tbody>\n",
       "</table>\n",
       "</div>"
      ],
      "text/plain": [
       "                                               names                  emails  \\\n",
       "0  Alisson Parker-Wright                         ...  alli1414parks@mail.com   \n",
       "1                                       John Dominic    johndominic@mail.com   \n",
       "2                                       Ashley Miles  ashleymiles@memail.com   \n",
       "\n",
       "      phone_nos                     skill_sets  \n",
       "0  [8569878511]  {'tableau', 'python', 'java'}  \n",
       "1  [7877756411]   {'python', 'java', 'hadoop'}  \n",
       "2  [6592251422]             {'tableau', 'sql'}  "
      ]
     },
     "execution_count": 292,
     "metadata": {},
     "output_type": "execute_result"
    }
   ],
   "source": [
    "df"
   ]
  },
  {
   "cell_type": "code",
   "execution_count": 293,
   "id": "f0b06937",
   "metadata": {},
   "outputs": [],
   "source": [
    "df.to_csv('outputs/csv/parsed_resumes.csv')"
   ]
  },
  {
   "cell_type": "markdown",
   "id": "5aed4cee",
   "metadata": {},
   "source": [
    "# Image Converter"
   ]
  },
  {
   "cell_type": "code",
   "execution_count": 332,
   "id": "e9ebeec6",
   "metadata": {},
   "outputs": [
    {
     "name": "stdout",
     "output_type": "stream",
     "text": [
      "['1627926148815.png', 'download.png', '1627935452876.png']\n"
     ]
    }
   ],
   "source": [
    "from PIL import Image\n",
    "import glob\n",
    "\n",
    "print(glob.glob(\"*.png\"))\n",
    "\n",
    "for file in glob.glob(\"*.png\"):\n",
    "    with Image.open(file) as img:\n",
    "        rgb_img=img.convert('RGB')\n",
    "        rgb_img.save(file.replace('png','jpg'), quality=95)"
   ]
  },
  {
   "cell_type": "markdown",
   "id": "cf88b660",
   "metadata": {},
   "source": [
    "**Referrence-https://stackoverflow.com/a/43258974/5086335**"
   ]
  },
  {
   "cell_type": "markdown",
   "id": "fe2ff87d",
   "metadata": {},
   "source": [
    "# News Summarizer"
   ]
  },
  {
   "cell_type": "markdown",
   "id": "368a2f4f",
   "metadata": {},
   "source": [
    "## Importing Packages"
   ]
  },
  {
   "cell_type": "code",
   "execution_count": 1,
   "id": "1f1dd9ea",
   "metadata": {},
   "outputs": [],
   "source": [
    "from bs4 import BeautifulSoup\n",
    "from requests import get\n",
    "from gensim.summarization.summarizer import summarize\n",
    "from gensim.summarization import keywords"
   ]
  },
  {
   "cell_type": "code",
   "execution_count": 128,
   "id": "c014d4e4",
   "metadata": {},
   "outputs": [],
   "source": [
    "def get_news_content():\n",
    "    try:\n",
    "        response=get(input(\"Please enter the Wiki News URL: \"))\n",
    "        if response.status_code != 200:\n",
    "            raise RuntimeError(\"Invalid URL\")\n",
    "        soup=BeautifulSoup(response.content,\"lxml\")\n",
    "        text=''.join(map(lambda p : p.text,soup.find_all('p')))\n",
    "        title=soup.title.text.split(' - ')[0]\n",
    "#         print(text)\n",
    "        return title, text\n",
    "    except:\n",
    "        print(\"Couldn't get the news. Please check and enter a valid URL\")"
   ]
  },
  {
   "cell_type": "code",
   "execution_count": 40,
   "id": "92fddb83",
   "metadata": {},
   "outputs": [
    {
     "name": "stdout",
     "output_type": "stream",
     "text": [
      "Please enter the Wiki News URL: https://en.wikinews.org/wiki/New_Zealand_raises_interest_rates_in_second_straight_month_to_0.75%25\n"
     ]
    }
   ],
   "source": [
    "text=get_news_content()"
   ]
  },
  {
   "cell_type": "code",
   "execution_count": 46,
   "id": "248281aa",
   "metadata": {},
   "outputs": [
    {
     "name": "stdout",
     "output_type": "stream",
     "text": [
      "News Title: New Zealand raises interest rates in second straight month to 0.75%\n"
     ]
    }
   ],
   "source": [
    "print('News Title: '+text[0])"
   ]
  },
  {
   "cell_type": "code",
   "execution_count": 48,
   "id": "1f630550",
   "metadata": {},
   "outputs": [
    {
     "name": "stdout",
     "output_type": "stream",
     "text": [
      "No. of words in original article: 812\n"
     ]
    }
   ],
   "source": [
    "print(\"No. of words in original article: \"+str(len(str.split(text[1]))))"
   ]
  },
  {
   "cell_type": "markdown",
   "id": "9e46fb4b",
   "metadata": {},
   "source": [
    "## Summarizing"
   ]
  },
  {
   "cell_type": "code",
   "execution_count": 145,
   "id": "6ef07fc4",
   "metadata": {},
   "outputs": [
    {
     "name": "stdout",
     "output_type": "stream",
     "text": [
      "Title: New Zealand raises interest rates in second straight month to 0.75%\n",
      "Summary: \n",
      "The Reserve Bank of New Zealand (RBNZ) raised interest rates by 25 basis points to 0.75% during its last policy meeting of the year yesterday, after the rate of consumer price inflation was recorded at 4.9% in the third quarter, the highest since December 2007.\n",
      "Reuters reports the New Zealand dollar fell 0.6% due to some investors predicting a higher hike, and both 2- and 10-year government bonds slipped by 10 basis points each.\n"
     ]
    }
   ],
   "source": [
    "print(\"Title: \"+text[0])\n",
    "print(\"Summary: \")\n",
    "print(summarize(text[1],word_count=100))"
   ]
  },
  {
   "cell_type": "code",
   "execution_count": 144,
   "id": "07c1f6b0",
   "metadata": {},
   "outputs": [
    {
     "name": "stdout",
     "output_type": "stream",
     "text": [
      "Title: New Zealand raises interest rates in second straight month to 0.75%\n",
      "Summary: \n",
      "The Reserve Bank of New Zealand (RBNZ) raised interest rates by 25 basis points to 0.75% during its last policy meeting of the year yesterday, after the rate of consumer price inflation was recorded at 4.9% in the third quarter, the highest since December 2007.\n",
      "The hike to the national official cash rate (OCR) was widely expected by economists and the markets alike: 21 of the 23 economists surveyed in a November 15-19 Reuters poll predicted an increase of 25 basis points, while the other two projected an increase by 50 basis points, to 1%.\n",
      "While countries globally are winding down pandemic-related stimulus measures, according to Reuters, there has been pushback from some countries when it comes to raising interest rates: in the United States, the inflation rate recently rose to 6.2%, the highest in 31 years, which has led some economists to put pressure on Federal Reserve chair Jerome Powell to accelerate the process of tapering its monthly bond purchases, according to the Associated Press.\n",
      "RBA Governor Philip Lowe told an Australian Businesses Economists lunch last week \"the latest data and forecasts do not warrant an increase in the cash rate in 2022\", and for one to be considered by the board \"[t]he economy and inflation would have to turn out very differently from our central scenario\", according to ABC News.\n",
      "Reuters reports the New Zealand dollar fell 0.6% due to some investors predicting a higher hike, and both 2- and 10-year government bonds slipped by 10 basis points each.\n"
     ]
    }
   ],
   "source": [
    "print(\"Title: \"+text[0])\n",
    "print(\"Summary: \")\n",
    "print(summarize(text[1],ratio=0.25))"
   ]
  },
  {
   "cell_type": "code",
   "execution_count": 69,
   "id": "a4c6d4c8",
   "metadata": {},
   "outputs": [
    {
     "name": "stdout",
     "output_type": "stream",
     "text": [
      "No. of words using word count: 141\n",
      "No. of words using ratios: 261\n"
     ]
    }
   ],
   "source": [
    "print(\"No. of words using word count: \" + str(len(str.split(summarize(repr(text[1]),word_count=100)))))\n",
    "print(\"No. of words using ratios: \" + str(len(str.split(summarize(repr(text[1]),ratio=0.25)))))"
   ]
  },
  {
   "cell_type": "markdown",
   "id": "c8e0637b",
   "metadata": {},
   "source": [
    "## Keywords"
   ]
  },
  {
   "cell_type": "code",
   "execution_count": 71,
   "id": "9da20f7a",
   "metadata": {},
   "outputs": [
    {
     "name": "stdout",
     "output_type": "stream",
     "text": [
      "Keywords:\n",
      "rate\n",
      "reuters\n",
      "according\n",
      "priced\n",
      "stimulus\n",
      "rises\n",
      "including\n",
      "economist\n",
      "told\n",
      "zealand\n",
      "bonds\n",
      "rbnz\n",
      "years\n",
      "banks\n",
      "house\n",
      "hikes\n",
      "investors\n",
      "orr\n",
      "governor\n",
      "debt\n",
      "taxes\n",
      "tightening\n",
      "reserve\n",
      "predicting\n",
      "senior market\n",
      "nations\n",
      "measures\n",
      "recently\n",
      "central\n",
      "yesterday\n",
      "rba\n",
      "inflation\n",
      "level\n",
      "high\n",
      "leverage\n",
      "ecb\n",
      "ben\n",
      "businesses\n",
      "chief\n",
      "reports\n",
      "forecasted\n",
      "initially\n",
      "jerome\n",
      "michael\n",
      "huge\n",
      "economics\n"
     ]
    }
   ],
   "source": [
    "print('Keywords:')\n",
    "print(keywords(text[1],ratio=0.25,lemmatize=True))"
   ]
  },
  {
   "cell_type": "markdown",
   "id": "7a391153",
   "metadata": {},
   "source": [
    "**Referrence for the above projects:** https://github.com/amrrs/build_tools_to_automate_python"
   ]
  },
  {
   "cell_type": "markdown",
   "id": "8819935c",
   "metadata": {},
   "source": [
    "# Summarization with spaCy"
   ]
  },
  {
   "cell_type": "code",
   "execution_count": 156,
   "id": "a81754d4",
   "metadata": {},
   "outputs": [],
   "source": [
    "# Importing Packages\n",
    "import spacy\n",
    "from spacy.lang.en.stop_words import STOP_WORDS\n",
    "from string import punctuation\n",
    "from heapq import nlargest\n",
    "\n",
    "# Loading model\n",
    "nlp=spacy.load('en_core_web_sm')"
   ]
  },
  {
   "cell_type": "code",
   "execution_count": 100,
   "id": "69b6a658",
   "metadata": {},
   "outputs": [
    {
     "name": "stdout",
     "output_type": "stream",
     "text": [
      "['along', 'former', 'against', 'another', 'quite', 'were', 'hundred', 'mostly', 'being', 'that', 'would', 'sometimes', 'when', '’s', 'please', 'to', 'say', 'thru', 'neither', 'not', 'nothing', '’re', 'somewhere', 'someone', 'around', 'until', 'much', 'did', 'or', 'is', 'amount', 'never', 'the', '‘d', 'up', 'whose', 'whatever', 'becoming', 'therein', 'does', 'cannot', 'whereby', 'see', 'whence', '’ve', 'ever', 'full', 'whereafter', 'toward', 'himself', 'him', 'both', 'been', 'eight', 'beforehand', 'using', 'used', '’ll', 'behind', 'everyone', 'from', 'side', 'namely', 'three', 'themselves', 'without', 'enough', 'among', 'must', 'below', 'last', 'front', 'on', 'get', 'can', 'once', \"n't\", 'yet', '’m', 'beside', 'latterly', 'other', 'becomes', 'doing', 'meanwhile', 'out', 'seem', 'well', 'each', 'amongst', 'hereby', 'an', 'else', 'always', 'take', 'down', 'herself', 'although', 'various', 'with', 'less', 'though', 'you', 'all', 'also', 'others', 'therefore', 'ca', 'might', 'at', 'myself', 'we', 'yours', \"'d\", 'unless', 'alone', 'made', 'anyway', 'otherwise', 'i', 'for', 'by', 'eleven', 'fifteen', 'four', 'still', 'n’t', 'wherever', 'sixty', 'formerly', 'wherein', 'same', 'thence', 'no', 'anywhere', 'it', 'thereafter', 'now', 'his', \"'ll\", 'top', 'go', 'more', 'be', 'onto', 'itself', 'five', 'moreover', 're', 'regarding', 'just', 'whither', 'whereas', 'here', 'a', 'those', 'something', 'perhaps', 'make', '‘m', 'mine', 'had', 'indeed', 'empty', 'towards', '‘ll', \"'s\", 'next', 'several', 'before', 'nobody', 'hers', 'almost', 'everywhere', 'her', 'via', 'any', 'somehow', 'there', 'either', 'third', 'anything', 'hence', 'none', 'thereby', 'do', 'whoever', 'have', 'will', 'he', 'are', 'me', 'name', 'should', 'few', 'noone', 'back', 'above', 'part', 'yourself', 'however', 'put', 'move', 'call', 'of', 'show', 'whole', 'could', 'bottom', 'hereafter', 'herein', 'off', 'why', 'some', 'due', 'except', 'over', 'many', 'hereupon', 'then', 'as', 'forty', 'only', '‘s', 'became', 'where', 'and', 'one', 'am', 'these', 'beyond', 'own', 'done', 'in', 'yourselves', 'n‘t', 'after', 'our', 'such', 'really', 'into', 'elsewhere', 'within', 'ten', 'serious', \"'m\", 'whenever', 'least', 'twelve', '‘ve', 'was', 'give', 'anyhow', 'this', 'while', 'their', 'upon', 'two', 'under', 'thus', 'together', 'across', 'nor', 'your', 'fifty', 'us', 'but', 'very', 'so', 'whereupon', 'again', 'has', '‘re', 'what', 'further', 'thereupon', 'afterwards', 'anyone', 'because', 'often', 'them', 'sometime', 'about', 'nowhere', 'become', 'seemed', 'most', 'nevertheless', 'who', 'besides', 'first', 'whether', 'they', '’d', 'even', 'through', 'too', 'if', 'may', 'latter', 'seeming', 'twenty', 'during', 'between', 'than', 'keep', 'every', 'already', \"'ve\", 'everything', 'six', 'seems', 'how', 'throughout', 'per', 'which', 'rather', 'nine', 'my', \"'re\", 'whom', 'she', 'its', 'ours', 'ourselves', 'since']\n"
     ]
    }
   ],
   "source": [
    "print(list(STOP_WORDS))"
   ]
  },
  {
   "cell_type": "code",
   "execution_count": 101,
   "id": "d400d281",
   "metadata": {},
   "outputs": [
    {
     "name": "stdout",
     "output_type": "stream",
     "text": [
      "['!', '\"', '#', '$', '%', '&', \"'\", '(', ')', '*', '+', ',', '-', '.', '/', ':', ';', '<', '=', '>', '?', '@', '[', '\\\\', ']', '^', '_', '`', '{', '|', '}', '~']\n"
     ]
    }
   ],
   "source": [
    "print(list(punctuation))"
   ]
  },
  {
   "cell_type": "markdown",
   "id": "6c266a0f",
   "metadata": {},
   "source": [
    "**I have used the same function defined in the News Summarizer**"
   ]
  },
  {
   "cell_type": "code",
   "execution_count": 176,
   "id": "544c664e",
   "metadata": {
    "scrolled": false
   },
   "outputs": [
    {
     "name": "stdout",
     "output_type": "stream",
     "text": [
      "Please enter the Wiki News URL: https://en.wikinews.org/wiki/Indian_Prime_Minister_Narendra_Modi_promises_repeal_of_three_farm_laws\n"
     ]
    }
   ],
   "source": [
    "text=get_news_content()"
   ]
  },
  {
   "cell_type": "code",
   "execution_count": 177,
   "id": "cfacb472",
   "metadata": {},
   "outputs": [],
   "source": [
    "doc=nlp(text[1])"
   ]
  },
  {
   "cell_type": "markdown",
   "id": "445027bc",
   "metadata": {},
   "source": [
    "## Number of appearances a word makes in the document\n",
    "**Required for calculating sentence score**"
   ]
  },
  {
   "cell_type": "code",
   "execution_count": 178,
   "id": "1b41bb98",
   "metadata": {},
   "outputs": [],
   "source": [
    "word_frequencies={}\n",
    "for word in doc:\n",
    "    if word.lower_ not in STOP_WORDS:\n",
    "        if word.lower_ not in punctuation:\n",
    "            if word.text not in word_frequencies.keys():\n",
    "                word_frequencies[word.text]=1\n",
    "            else:\n",
    "                word_frequencies[word.text]=word_frequencies[word.text]+1"
   ]
  },
  {
   "cell_type": "code",
   "execution_count": 179,
   "id": "bfee032f",
   "metadata": {},
   "outputs": [
    {
     "name": "stdout",
     "output_type": "stream",
     "text": [
      "{'Monday': 1, 'November': 1, '22': 1, '2021': 1, '\\xa0\\n': 1, 'address': 1, 'nation': 1, 'Friday': 1, 'Indian': 5, 'Prime': 1, 'Minister': 1, 'Narendra': 1, 'Modi': 2, 'pledged': 1, 'repeal': 3, 'controversial': 1, 'farm': 2, 'laws': 5, 'explaining': 1, 'decided': 1, 'start': 1, 'constitutional': 1, 'process': 1, 'upcoming': 1, 'parliament': 3, 'sessions': 1, 'starts': 1, 'end': 1, 'month': 1, '\\n': 5, 'September': 1, '2020': 3, 'President': 1, 'Ram': 1, 'Nath': 1, 'Kovind': 1, 'assented': 1, 'farming': 1, 'passed': 2, 'Parliament': 1, 'Collectively': 1, 'known': 1, 'agriculture': 1, 'acts': 1, 'Farmers': 3, 'Produce': 1, 'Trade': 1, 'Commerce': 1, 'Promotion': 1, 'Facilitation': 1, 'Bill': 3, 'Empowerment': 1, 'Protection': 1, 'Agreement': 1, 'Price': 2, 'Assurance': 1, 'Farm': 1, 'Services': 1, 'Essential': 1, 'Commodities': 1, 'Amendment': 1, 'bills': 2, 'monsoon': 1, 'session': 1, 'farmers': 6, 'Punjab': 1, 'Haryana': 1, 'protested': 1, 'reforms': 1, 'expressing': 1, 'strong': 1, 'apprehension': 1, 'criticism': 1, 'new': 1, 'disrupt': 1, 'Minimum': 1, 'Support': 1, 'system': 1, 'leave': 1, 'mercy': 1, 'large': 1, 'conglomerates': 1, 'asked': 1, 'protesting': 1, 'desist': 1, 'return': 1, 'homes': 1, 'seen': 1, 'celebrating': 1, 'decision': 2, 'government': 2, 'near': 1, 'Ghazipur': 1, 'border': 1, 'Bharatiya': 1, 'Kisan': 1, 'Union': 2, 'leader': 2, 'Rakesh': 1, 'Tikait': 1, 'declared': 1, 'continue': 1, 'protests': 1, 'completely': 1, 'scrapped': 1, 'National': 1, 'Congress': 1, 'country': 2, 'main': 1, 'opposition': 1, 'party': 2, 'hailed': 1, 'Rahul': 1, 'Gandhi': 1, 'stating': 1, 'satyagraha': 1, 'arrogance': 1, 'bow': 1, 'head': 1, 'Congratulations': 1, 'victory': 1, 'injustice': 1, 'Hail': 1, 'India': 2, 'hail': 1, '\\n\\n': 1, 'opinion': 1, 'story': 1, 'Share': 2, '\\xa0\\n\\n\\n\\n\\n\\n': 1}\n"
     ]
    }
   ],
   "source": [
    "print(word_frequencies)"
   ]
  },
  {
   "cell_type": "code",
   "execution_count": 180,
   "id": "62fadc86",
   "metadata": {},
   "outputs": [],
   "source": [
    "max_frequency=max(word_frequencies.values())"
   ]
  },
  {
   "cell_type": "code",
   "execution_count": 181,
   "id": "21da0350",
   "metadata": {},
   "outputs": [
    {
     "name": "stdout",
     "output_type": "stream",
     "text": [
      "6\n"
     ]
    }
   ],
   "source": [
    "print(max_frequency)"
   ]
  },
  {
   "cell_type": "code",
   "execution_count": 182,
   "id": "4fff4994",
   "metadata": {},
   "outputs": [],
   "source": [
    "for word in word_frequencies.keys():\n",
    "    word_frequencies[word]=word_frequencies[word]/max_frequency"
   ]
  },
  {
   "cell_type": "code",
   "execution_count": 183,
   "id": "4a3bfcf1",
   "metadata": {},
   "outputs": [
    {
     "name": "stdout",
     "output_type": "stream",
     "text": [
      "{'Monday': 0.16666666666666666, 'November': 0.16666666666666666, '22': 0.16666666666666666, '2021': 0.16666666666666666, '\\xa0\\n': 0.16666666666666666, 'address': 0.16666666666666666, 'nation': 0.16666666666666666, 'Friday': 0.16666666666666666, 'Indian': 0.8333333333333334, 'Prime': 0.16666666666666666, 'Minister': 0.16666666666666666, 'Narendra': 0.16666666666666666, 'Modi': 0.3333333333333333, 'pledged': 0.16666666666666666, 'repeal': 0.5, 'controversial': 0.16666666666666666, 'farm': 0.3333333333333333, 'laws': 0.8333333333333334, 'explaining': 0.16666666666666666, 'decided': 0.16666666666666666, 'start': 0.16666666666666666, 'constitutional': 0.16666666666666666, 'process': 0.16666666666666666, 'upcoming': 0.16666666666666666, 'parliament': 0.5, 'sessions': 0.16666666666666666, 'starts': 0.16666666666666666, 'end': 0.16666666666666666, 'month': 0.16666666666666666, '\\n': 0.8333333333333334, 'September': 0.16666666666666666, '2020': 0.5, 'President': 0.16666666666666666, 'Ram': 0.16666666666666666, 'Nath': 0.16666666666666666, 'Kovind': 0.16666666666666666, 'assented': 0.16666666666666666, 'farming': 0.16666666666666666, 'passed': 0.3333333333333333, 'Parliament': 0.16666666666666666, 'Collectively': 0.16666666666666666, 'known': 0.16666666666666666, 'agriculture': 0.16666666666666666, 'acts': 0.16666666666666666, 'Farmers': 0.5, 'Produce': 0.16666666666666666, 'Trade': 0.16666666666666666, 'Commerce': 0.16666666666666666, 'Promotion': 0.16666666666666666, 'Facilitation': 0.16666666666666666, 'Bill': 0.5, 'Empowerment': 0.16666666666666666, 'Protection': 0.16666666666666666, 'Agreement': 0.16666666666666666, 'Price': 0.3333333333333333, 'Assurance': 0.16666666666666666, 'Farm': 0.16666666666666666, 'Services': 0.16666666666666666, 'Essential': 0.16666666666666666, 'Commodities': 0.16666666666666666, 'Amendment': 0.16666666666666666, 'bills': 0.3333333333333333, 'monsoon': 0.16666666666666666, 'session': 0.16666666666666666, 'farmers': 1.0, 'Punjab': 0.16666666666666666, 'Haryana': 0.16666666666666666, 'protested': 0.16666666666666666, 'reforms': 0.16666666666666666, 'expressing': 0.16666666666666666, 'strong': 0.16666666666666666, 'apprehension': 0.16666666666666666, 'criticism': 0.16666666666666666, 'new': 0.16666666666666666, 'disrupt': 0.16666666666666666, 'Minimum': 0.16666666666666666, 'Support': 0.16666666666666666, 'system': 0.16666666666666666, 'leave': 0.16666666666666666, 'mercy': 0.16666666666666666, 'large': 0.16666666666666666, 'conglomerates': 0.16666666666666666, 'asked': 0.16666666666666666, 'protesting': 0.16666666666666666, 'desist': 0.16666666666666666, 'return': 0.16666666666666666, 'homes': 0.16666666666666666, 'seen': 0.16666666666666666, 'celebrating': 0.16666666666666666, 'decision': 0.3333333333333333, 'government': 0.3333333333333333, 'near': 0.16666666666666666, 'Ghazipur': 0.16666666666666666, 'border': 0.16666666666666666, 'Bharatiya': 0.16666666666666666, 'Kisan': 0.16666666666666666, 'Union': 0.3333333333333333, 'leader': 0.3333333333333333, 'Rakesh': 0.16666666666666666, 'Tikait': 0.16666666666666666, 'declared': 0.16666666666666666, 'continue': 0.16666666666666666, 'protests': 0.16666666666666666, 'completely': 0.16666666666666666, 'scrapped': 0.16666666666666666, 'National': 0.16666666666666666, 'Congress': 0.16666666666666666, 'country': 0.3333333333333333, 'main': 0.16666666666666666, 'opposition': 0.16666666666666666, 'party': 0.3333333333333333, 'hailed': 0.16666666666666666, 'Rahul': 0.16666666666666666, 'Gandhi': 0.16666666666666666, 'stating': 0.16666666666666666, 'satyagraha': 0.16666666666666666, 'arrogance': 0.16666666666666666, 'bow': 0.16666666666666666, 'head': 0.16666666666666666, 'Congratulations': 0.16666666666666666, 'victory': 0.16666666666666666, 'injustice': 0.16666666666666666, 'Hail': 0.16666666666666666, 'India': 0.3333333333333333, 'hail': 0.16666666666666666, '\\n\\n': 0.16666666666666666, 'opinion': 0.16666666666666666, 'story': 0.16666666666666666, 'Share': 0.3333333333333333, '\\xa0\\n\\n\\n\\n\\n\\n': 0.16666666666666666}\n"
     ]
    }
   ],
   "source": [
    "print(word_frequencies)"
   ]
  },
  {
   "cell_type": "code",
   "execution_count": 184,
   "id": "1dee851a",
   "metadata": {},
   "outputs": [],
   "source": [
    "sent_list=[sent for sent in doc.sents]"
   ]
  },
  {
   "cell_type": "markdown",
   "id": "7676737b",
   "metadata": {},
   "source": [
    "**A list of sentences in a document**"
   ]
  },
  {
   "cell_type": "code",
   "execution_count": 185,
   "id": "249c952c",
   "metadata": {},
   "outputs": [
    {
     "name": "stdout",
     "output_type": "stream",
     "text": [
      "[Monday, November 22, 2021 \n",
      "In an address to the nation on Friday, Indian Prime Minister Narendra Modi pledged to repeal three controversial farm laws, explaining \"we have decided to repeal all three farm laws and will start the constitutional process to repeal all the three laws in the upcoming parliament sessions that starts at the end of this month\"., \n",
      "In September 2020, President Ram Nath Kovind assented to three farming laws passed by the Parliament., Collectively known as the 2020 Indian agriculture acts, they were the Farmers' Produce Trade and Commerce (Promotion and Facilitation) Bill, Farmers (Empowerment and Protection) Agreement on Price Assurance and Farm Services Bill, and Essential Commodities (Amendment) Bill., \n",
      "The bills were passed by the Indian parliament during the monsoon session of 2020., Some farmers in Punjab and Haryana protested the reforms, expressing strong apprehension and criticism that the new laws would disrupt the Minimum Support Price system and leave them at the \"mercy\" of large conglomerates., \n",
      "Modi also asked the protesting farmers to desist and return to their homes., While farmers were seen celebrating after the decision of the government near the Ghazipur border, Bharatiya Kisan Union (Indian Farmers' Union) leader Rakesh Tikait declared that the farmers would continue the protests until the bills have been completely scrapped in the parliament., \n",
      ", The Indian National Congress, the country's main opposition party, hailed the decision of the government, with former party leader Rahul Gandhi stating \"the country's farmers, through their satyagraha, made arrogance bow its head., Congratulations on the victory against injustice!, Hail India, hail India’s farmers!, \"\n",
      "\n",
      "Have an opinion on this story?, Share it!, \n",
      "Share this: \n",
      "\n",
      "\n",
      "\n",
      "\n",
      "\n",
      "]\n"
     ]
    }
   ],
   "source": [
    "print(sent_list)"
   ]
  },
  {
   "cell_type": "code",
   "execution_count": 186,
   "id": "6b3b3d17",
   "metadata": {},
   "outputs": [],
   "source": [
    "sentence_score={}"
   ]
  },
  {
   "cell_type": "markdown",
   "id": "e62f67a3",
   "metadata": {},
   "source": [
    "## Sentence score = Sum of Word frequencies in the sentence"
   ]
  },
  {
   "cell_type": "code",
   "execution_count": 187,
   "id": "286e15bd",
   "metadata": {},
   "outputs": [],
   "source": [
    "for sent in sent_list:\n",
    "    for word in sent:\n",
    "        if word.text in word_frequencies.keys():\n",
    "            if sent not in sentence_score.keys():\n",
    "                sentence_score[sent]=word_frequencies[word.text]\n",
    "            else:\n",
    "                sentence_score[sent]+=word_frequencies[word.text]"
   ]
  },
  {
   "cell_type": "code",
   "execution_count": 188,
   "id": "d79caacd",
   "metadata": {},
   "outputs": [
    {
     "name": "stdout",
     "output_type": "stream",
     "text": [
      "{Monday, November 22, 2021 \n",
      "In an address to the nation on Friday, Indian Prime Minister Narendra Modi pledged to repeal three controversial farm laws, explaining \"we have decided to repeal all three farm laws and will start the constitutional process to repeal all the three laws in the upcoming parliament sessions that starts at the end of this month\".: 10.166666666666664, \n",
      "In September 2020, President Ram Nath Kovind assented to three farming laws passed by the Parliament.: 3.833333333333333, Collectively known as the 2020 Indian agriculture acts, they were the Farmers' Produce Trade and Commerce (Promotion and Facilitation) Bill, Farmers (Empowerment and Protection) Agreement on Price Assurance and Farm Services Bill, and Essential Commodities (Amendment) Bill.: 7.166666666666668, \n",
      "The bills were passed by the Indian parliament during the monsoon session of 2020.: 3.6666666666666665, Some farmers in Punjab and Haryana protested the reforms, expressing strong apprehension and criticism that the new laws would disrupt the Minimum Support Price system and leave them at the \"mercy\" of large conglomerates.: 5.000000000000001, \n",
      "Modi also asked the protesting farmers to desist and return to their homes.: 2.9999999999999996, While farmers were seen celebrating after the decision of the government near the Ghazipur border, Bharatiya Kisan Union (Indian Farmers' Union) leader Rakesh Tikait declared that the farmers would continue the protests until the bills have been completely scrapped in the parliament.: 8.166666666666668, \n",
      ": 0.8333333333333334, The Indian National Congress, the country's main opposition party, hailed the decision of the government, with former party leader Rahul Gandhi stating \"the country's farmers, through their satyagraha, made arrogance bow its head.: 6.166666666666669, Congratulations on the victory against injustice!: 0.5, Hail India, hail India’s farmers!: 2.0, \"\n",
      "\n",
      "Have an opinion on this story?: 0.5, Share it!: 0.3333333333333333, \n",
      "Share this: \n",
      "\n",
      "\n",
      "\n",
      "\n",
      "\n",
      ": 1.3333333333333335}\n"
     ]
    }
   ],
   "source": [
    "print(sentence_score)"
   ]
  },
  {
   "cell_type": "markdown",
   "id": "91b3c8da",
   "metadata": {},
   "source": [
    "**IMPORTANT NOTE:**\n",
    "`sent_list` is the list of all the sentences inside the document and the below code selects 25%(which will be a whole number) of its length to disply as summary"
   ]
  },
  {
   "cell_type": "code",
   "execution_count": 189,
   "id": "4ed23623",
   "metadata": {},
   "outputs": [],
   "source": [
    "# selecting quantity the summary, in this case 25%\n",
    "summary_quantity=int(len(sent_list)*0.25)"
   ]
  },
  {
   "cell_type": "code",
   "execution_count": 190,
   "id": "c457927f",
   "metadata": {},
   "outputs": [
    {
     "name": "stdout",
     "output_type": "stream",
     "text": [
      "3\n"
     ]
    }
   ],
   "source": [
    "print(summary_quantity)"
   ]
  },
  {
   "cell_type": "markdown",
   "id": "ee47fff9",
   "metadata": {},
   "source": [
    "**Referrence for nlargest method**\n",
    "https://pythontic.com/algorithms/heapq/nlargest"
   ]
  },
  {
   "cell_type": "code",
   "execution_count": 191,
   "id": "02710ac9",
   "metadata": {},
   "outputs": [],
   "source": [
    "# nlargest takes 3 arguments\n",
    "# Returns 'n' number of elements(1st argument) from the list of the elements(2nd argument) sorted in descending order\n",
    "# with the help of a key function(3rd argument) that returns a comparison key to be used in the sorting.\n",
    "summary=nlargest(summary_quantity,sent_list,key=sentence_score.get)"
   ]
  },
  {
   "cell_type": "code",
   "execution_count": 192,
   "id": "6f48e7b8",
   "metadata": {},
   "outputs": [
    {
     "data": {
      "text/plain": [
       "[Monday, November 22, 2021 \n",
       " In an address to the nation on Friday, Indian Prime Minister Narendra Modi pledged to repeal three controversial farm laws, explaining \"we have decided to repeal all three farm laws and will start the constitutional process to repeal all the three laws in the upcoming parliament sessions that starts at the end of this month\".,\n",
       " While farmers were seen celebrating after the decision of the government near the Ghazipur border, Bharatiya Kisan Union (Indian Farmers' Union) leader Rakesh Tikait declared that the farmers would continue the protests until the bills have been completely scrapped in the parliament.,\n",
       " Collectively known as the 2020 Indian agriculture acts, they were the Farmers' Produce Trade and Commerce (Promotion and Facilitation) Bill, Farmers (Empowerment and Protection) Agreement on Price Assurance and Farm Services Bill, and Essential Commodities (Amendment) Bill.]"
      ]
     },
     "execution_count": 192,
     "metadata": {},
     "output_type": "execute_result"
    }
   ],
   "source": [
    "summary"
   ]
  },
  {
   "cell_type": "code",
   "execution_count": 193,
   "id": "f106a9c3",
   "metadata": {},
   "outputs": [],
   "source": [
    "final_summary=[paragraph.text for paragraph in summary]\n",
    "summary=''.join(final_summary)"
   ]
  },
  {
   "cell_type": "code",
   "execution_count": 194,
   "id": "7cf18356",
   "metadata": {},
   "outputs": [
    {
     "name": "stdout",
     "output_type": "stream",
     "text": [
      "Title: Indian Prime Minister Narendra Modi promises repeal of three farm laws\n",
      "Summary: Monday, November 22, 2021 \n",
      "In an address to the nation on Friday, Indian Prime Minister Narendra Modi pledged to repeal three controversial farm laws, explaining \"we have decided to repeal all three farm laws and will start the constitutional process to repeal all the three laws in the upcoming parliament sessions that starts at the end of this month\".While farmers were seen celebrating after the decision of the government near the Ghazipur border, Bharatiya Kisan Union (Indian Farmers' Union) leader Rakesh Tikait declared that the farmers would continue the protests until the bills have been completely scrapped in the parliament.Collectively known as the 2020 Indian agriculture acts, they were the Farmers' Produce Trade and Commerce (Promotion and Facilitation) Bill, Farmers (Empowerment and Protection) Agreement on Price Assurance and Farm Services Bill, and Essential Commodities (Amendment) Bill.\n"
     ]
    }
   ],
   "source": [
    "print('Title: '+str(text[0]))\n",
    "print('Summary: '+summary)"
   ]
  },
  {
   "cell_type": "markdown",
   "id": "492d711a",
   "metadata": {},
   "source": [
    "**Referrence-https://youtu.be/5mY6a3QbIXM**"
   ]
  }
 ],
 "metadata": {
  "kernelspec": {
   "display_name": "Python 3 (ipykernel)",
   "language": "python",
   "name": "python3"
  },
  "language_info": {
   "codemirror_mode": {
    "name": "ipython",
    "version": 3
   },
   "file_extension": ".py",
   "mimetype": "text/x-python",
   "name": "python",
   "nbconvert_exporter": "python",
   "pygments_lexer": "ipython3",
   "version": "3.9.9"
  }
 },
 "nbformat": 4,
 "nbformat_minor": 5
}
