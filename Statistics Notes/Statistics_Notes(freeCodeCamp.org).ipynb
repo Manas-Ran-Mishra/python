{
 "cells": [
  {
   "cell_type": "markdown",
   "id": "f743664c",
   "metadata": {},
   "source": [
    "# My statistics notes from freeCodeCamp.org lecture"
   ]
  },
  {
   "cell_type": "markdown",
   "id": "fdab6f24",
   "metadata": {},
   "source": [
    "## Statistics\n",
    "- Collecting & organizing data then analyzing and interpreting information and data.\n",
    "- Helps us make decisions.\n",
    "- Might be uncertain but better than to guess."
   ]
  },
  {
   "cell_type": "markdown",
   "id": "c5cda68d",
   "metadata": {},
   "source": [
    "**Individuals-**\n",
    "People or objects included in a study.\n",
    "- e.g. Car"
   ]
  },
  {
   "cell_type": "markdown",
   "id": "75e4ba0b",
   "metadata": {},
   "source": [
    "**Variable-**\n",
    "Characteristics of an individual to be measured or observed.\n",
    "- e.g. Engine Type(Petrol or Disel), Number of seats, Open or Closed roof, Date of Purchase, Number plate"
   ]
  },
  {
   "cell_type": "markdown",
   "id": "eab3b6f2",
   "metadata": {},
   "source": [
    "**Population-**\n",
    "Every individual or object in a common theme.\n",
    "- e.g. Theme: Non vegeterian resturants in a certain city\n",
    "- Population: Every non vegeterian resurant in that city"
   ]
  },
  {
   "cell_type": "markdown",
   "id": "a3d40b34",
   "metadata": {},
   "source": [
    "**Sample-**\n",
    "A small portion of the population.\n",
    "- **e.g.** Representative sample- Non vegeterian resturants with 5 star rating on Zomato\n",
    "- Non representative sample- At least one non vegeterian restuarant from each of 5 star, 4 star, and so on"
   ]
  },
  {
   "cell_type": "markdown",
   "id": "d4c000d2",
   "metadata": {},
   "source": [
    "**Census-**\n",
    "Data of each individual or objects from the entire population.\n",
    "\n",
    "**Sample Data-**\n",
    "Data of the individuals or objects included in the sample. This is the usual approach."
   ]
  },
  {
   "cell_type": "markdown",
   "id": "c7a664f7",
   "metadata": {},
   "source": [
    "**Statistical Notation**\n",
    "- N - Total population\n",
    "- n - Sample of population"
   ]
  },
  {
   "cell_type": "markdown",
   "id": "793404cc",
   "metadata": {},
   "source": [
    "**Parameter-**\n",
    "Measure that describes entire population\n",
    "- e.g. Mean age of the individuals ordering food non veg. resurants(the entire population)"
   ]
  },
  {
   "cell_type": "markdown",
   "id": "c0ba70e1",
   "metadata": {},
   "source": [
    "**Statistic-**\n",
    "Measure that describes sample of a population\n",
    "- e.g. Mean age of the individuals ordering non veg. dishes from the non veg. resturants(sample of the population)"
   ]
  },
  {
   "cell_type": "markdown",
   "id": "958c0bf4",
   "metadata": {},
   "source": [
    "**Descriptive Statistics-**\n",
    "Involve methods of organizing, picturing and summarizing information from samples and populations."
   ]
  },
  {
   "cell_type": "markdown",
   "id": "3bec52ad",
   "metadata": {},
   "source": [
    "**Inferrential Statistics-**\n",
    "Involves methods of drawing conclusions for entire population from information from a sample of population."
   ]
  },
  {
   "cell_type": "markdown",
   "id": "8e7e07ed",
   "metadata": {},
   "source": [
    "**Quantitatve Data-**\n",
    "Difference between data values are meaningful\n",
    "- e.g. Movie start time & end time, Number of booked and empty seats in a theatre"
   ]
  },
  {
   "cell_type": "markdown",
   "id": "4733d751",
   "metadata": {},
   "source": [
    "**Interval-**\n",
    "There is no true zero\n",
    "- e.g. Movie strat time and end time, Movie release date"
   ]
  },
  {
   "cell_type": "markdown",
   "id": "a0e162f1",
   "metadata": {},
   "source": [
    "**Ratio-**\n",
    "There is a true zero\n",
    "- e.g. Number of seats in a theatre"
   ]
  },
  {
   "cell_type": "markdown",
   "id": "8799e13d",
   "metadata": {},
   "source": [
    "**Qualitative Data-**\n",
    "Difference between data values are not meaningful\n",
    "- e.g. Movie genre, A/C and Non A/C theatres, Size of the popcorn bucket"
   ]
  },
  {
   "cell_type": "markdown",
   "id": "1f47b2a8",
   "metadata": {},
   "source": [
    "**Nominal-**\n",
    "Applies to categories and labels or names and cannot be ordered from smallest to largest\n",
    "- e.g. Movie genre, A/C and Non A/C theatres"
   ]
  },
  {
   "cell_type": "markdown",
   "id": "8d3105da",
   "metadata": {},
   "source": [
    "**Ordinal-**\n",
    "Applies to data that can be arranged from smallest to largest **but** the difference between data values cannot be determined or is meaningless.\n",
    "- e.g. Sizes of popcorn buckets"
   ]
  },
  {
   "cell_type": "markdown",
   "id": "66aec95e",
   "metadata": {},
   "source": [
    "\n",
    "\n",
    "------------\n",
    "\n",
    "\n"
   ]
  },
  {
   "cell_type": "markdown",
   "id": "7fab7d07",
   "metadata": {},
   "source": [
    "## Sampling\n",
    "- Take sample to do inferential statistics that is to infer from the sample to the population\n",
    "- It is **impractical** and **unnecessary** to measure the whole population"
   ]
  },
  {
   "cell_type": "markdown",
   "id": "a53ed6a0",
   "metadata": {},
   "source": [
    "**Sampling Frame-**\n",
    "Sampling frame is the part of the population from which you want to draw a sample.\n",
    "\n",
    "Therefore, you want everyone from your sampling frame to have a chance of being selected for your sample.\n",
    "\n",
    "List of individuals form which a sample is actually selected.\n",
    "List can be physical, concrete or theoritical that is not made up yet\n",
    "- e.g. List of students enrolled at a college\n",
    "- List of students that will attend first period"
   ]
  },
  {
   "cell_type": "markdown",
   "id": "04099879",
   "metadata": {},
   "source": [
    "**Undercoverage-**\n",
    "Omitting population members from sampling frame\n",
    "\n",
    "This might happen due to delay in some paperwork, students list being incomplete"
   ]
  },
  {
   "cell_type": "markdown",
   "id": "f1034b4e",
   "metadata": {},
   "source": [
    "**Sampling Error-**\n",
    "This error happens as a part of statistics and might always be present as conclusion is inferred from sample data rather than population data.\n",
    "- e.g. Population mean will be different from sample mean\n",
    "- Population percentage will probably be different from sample percentage\n",
    "\n",
    "Caused by the fact that regerdless of what you do, your sample willnot represent the whole population."
   ]
  },
  {
   "cell_type": "markdown",
   "id": "ec141695",
   "metadata": {},
   "source": [
    "**Non Sampling Error-**\n",
    "These are mistakes made and you want to avoid this.\n",
    "- e.g. Might happen when using a bad list i.e. people supposed to be present in the sampling frame are being left out as the list might be old\n",
    "\n",
    "Caused by poor sample design, sloppy data collection, inaccurate measurement instruments, bias in data collection or other problems introduced by the researcher."
   ]
  },
  {
   "cell_type": "markdown",
   "id": "51765835",
   "metadata": {},
   "source": [
    "**Simulation-**\n",
    "Represention of a real world phenomenon.\n",
    "Pretend of a situation to see how it would come out if it was real."
   ]
  },
  {
   "cell_type": "markdown",
   "id": "a8eb3466",
   "metadata": {},
   "source": [
    "**Simple Random Sampling-**\n",
    "A sample of n measurements from a population is subset of population selected in such a way that every sample of size 'n' from the population has an equal chance of being selected.\n",
    "\n",
    "- e.g. You take a sample of 5 students out of all students in a class and every student of that class had an equal chance to be in the group"
   ]
  },
  {
   "cell_type": "markdown",
   "id": "4b9d54cf",
   "metadata": {},
   "source": [
    "**1st Method of Simple random Sampling**\n",
    "- Number all the individuals of the population with a unique number\n",
    "- Put all individual IDs in a place where you can draw IDs randomly without looking\n",
    "- Selected individuals are your sample \n",
    "- Make sure all the IDs are present so that each individual gets equal chance"
   ]
  },
  {
   "cell_type": "markdown",
   "id": "acd23a1f",
   "metadata": {},
   "source": [
    "**2nd method of Simple Random Sampling**\n",
    "- Generate a list of unique numbers as long as the population\n",
    "- Randomly assign these numbers to the population\n",
    "- Then select the first 5 numbers and that group will be your sample"
   ]
  },
  {
   "cell_type": "markdown",
   "id": "7989078a",
   "metadata": {},
   "source": [
    "**Limitations of Simple Random Sampling**\n",
    "- A list is needed e.g. if you don't know every student will be present in your class then you can't make a list of all the students of that class\n",
    "- A *good* list is needed e.g. if some students are absent on that day then each student didn't have equal chance to make it to the sample. This is risking undercoverage and non sampling error"
   ]
  },
  {
   "cell_type": "markdown",
   "id": "39ff5516",
   "metadata": {},
   "source": [
    "**Stratified Sampling-**\n",
    "Diving the list of individuals of a population into distinct groups/strata based on the a specific characteristic(e.g. age, income, education level, etc.) and perform simple random sampling from each stratum. Also while dividing to groups/strata share a specific characteristic.\n",
    "\n",
    "- Divide individuals to distinct groups based on a common characteristic\n",
    "- Make sure all the individuals in taht strata have the common characteristic of that strata\n",
    "- Perform a Simple Random Sampling on each strata"
   ]
  },
  {
   "cell_type": "markdown",
   "id": "6ac5450d",
   "metadata": {},
   "source": [
    "**Limitations of stratified sampling**\n",
    "- Oversimplfying a group means your summary statistics is unbalanced e.g. Taking 5 individuals out of 10 from a strata nad taking 5 individuals out of 20 from another strata\n",
    "- Like SRS, this is not possible to do without a list\n",
    "- It is also difficult because individuals need to be split into groups e.g. if you are not sure about the groups or putting an individual to a certian group"
   ]
  },
  {
   "cell_type": "markdown",
   "id": "8c0154bb",
   "metadata": {},
   "source": [
    "**Systematic Sampling-**\n",
    "This can be done with or without a list\n",
    "(Described with the steps)\n",
    "- Arrange all individuals of the population in a particular order e.g. Order of students entering to class room\n",
    "- Pick a random individual as a start e.g. 4th student that enters the classroom\n",
    "- Then take every *kth*(every so many) member of the population for the sample e.g. Every 3rd stdent that enters the classroom after the 4th student\n",
    "- sample will be 4th stident, 7th student, 10th student and so on"
   ]
  },
  {
   "cell_type": "markdown",
   "id": "16d32fbf",
   "metadata": {},
   "source": [
    "**Limitations of Systematic Sampling**\n",
    "- This cannot be done when there is a pattern to the data e.g. boy/girl/boy/girl and you pickout a random number to start then picked an even number so you will get all the boys or all the girls"
   ]
  },
  {
   "cell_type": "markdown",
   "id": "3b5f1903",
   "metadata": {},
   "source": [
    "**Cluster Sampling-**\n",
    "Sampling based on geographical location.\n",
    "\n",
    "- Diving map to different geographical areas\n",
    "- Then we randomly pick clusters or areas from the map"
   ]
  },
  {
   "cell_type": "markdown",
   "id": "3501b6ff",
   "metadata": {},
   "source": [
    "**Limitations of Cluster Sampling**\n",
    "- Sometimes people located in a cluster are all similar in a way(culture, language, etc.) that makes hard to study them e.g. if poor people having dust allergies who are living in a cluster where there is high air pollution"
   ]
  },
  {
   "cell_type": "markdown",
   "id": "a90d6472",
   "metadata": {},
   "source": [
    "**Convenience Sampling-**\n",
    "Convenience sampling can be used used under low risk circumstances.\n",
    "- e.g. Asking people for recommendations **for buying** ice cream from a certain ice cream shop in your locale\n",
    "\n",
    "Using results or data that are conveniently obtained and surveying already assembled groups.\n",
    "- e.g. Asking people who are **coming out of the ice cream shop** for recommendations"
   ]
  },
  {
   "cell_type": "markdown",
   "id": "7f029337",
   "metadata": {},
   "source": [
    "**Limitations of Convenience Sampling**\n",
    "- Has bias in every group e.g. People who had a bad time might recommend some other shop\n",
    "- Avoid it unless the question is low risk or resources are low"
   ]
  },
  {
   "cell_type": "markdown",
   "id": "5c9917bd",
   "metadata": {},
   "source": [
    "**Multi-stage Sampling-**\n",
    "Combination of sampling strategies performed in stages one after an other and the sample from the previous stage is the input to current stage.\n",
    "\n",
    "**Limitations**\n",
    "- Mostly used in large, governmental studies"
   ]
  },
  {
   "cell_type": "markdown",
   "id": "2a059e84",
   "metadata": {},
   "source": [
    "\n",
    "\n",
    "------------\n",
    "\n",
    "\n"
   ]
  },
  {
   "cell_type": "markdown",
   "id": "0a7fc615",
   "metadata": {},
   "source": [
    "## Basic Guidlines for Planning a Statistical Study\n",
    "1. State a hypothesis.\n",
    "2. Identify the individuals of interest.\n",
    "3. Specify the variables.\n",
    "4. Determine if you will use the entire population or a sample.\n",
    "   - Select a sampling method if you choose a sample\n",
    "5. Address ethical concerns before data collection.\n",
    "6. Collect the data.\n",
    "7. Use descriptive or inferential statistics to answer your hypothesis.\n",
    "8. Note any concerns about your data collection or analysis.\n",
    "   - Make recommendations for future studies"
   ]
  },
  {
   "cell_type": "markdown",
   "id": "3e87020b",
   "metadata": {},
   "source": [
    "**Experimental Study-**\n",
    "A treatment or intervention is deliberately assigned on the individuals.\n",
    "\n",
    "The purpose is to study the possible effect of the treatment or intervention on the variables measured"
   ]
  },
  {
   "cell_type": "markdown",
   "id": "b14b217a",
   "metadata": {},
   "source": [
    "**Observational Study-**\n",
    "Observations and measurements of the individuals are taken\n",
    "\n",
    "*No treatment* or *intervention* is assinged by the researcher"
   ]
  },
  {
   "cell_type": "markdown",
   "id": "a96e6713",
   "metadata": {},
   "source": [
    "**Replication-**\n",
    "Studies must be done rigorously enough to be replicated\n",
    "- e.g. Before testing a new drug on humans, they are repeatedly experimented on animals."
   ]
  },
  {
   "cell_type": "markdown",
   "id": "a2117bbe",
   "metadata": {},
   "source": [
    "**Avoiding Bias in Survey Design**\n",
    "\n",
    "*Non-response-* If you are asking individuals from a sample but they refuse to take part in the survey.\n",
    "\n",
    "If people refuse to take part in your survey, then the reason might be the way you are asking or how they feel about the topic of survey.\n",
    "\n",
    "*Voluntary Response-* Individuals from sample taking part in the survey after being asked.\n",
    "\n",
    "**NOTE:**\n",
    "If most individuals refuse to take part in your survey at the same time a few do fill up the survey then the ones who filled up the survey might have a biased opinion."
   ]
  },
  {
   "cell_type": "markdown",
   "id": "fe09b404",
   "metadata": {},
   "source": [
    "**Truthfulness of Response**\n",
    "- Respondents may lie on purpose\n",
    "    - If asked a too personal question **e.g.** about cheating on a test\n",
    "    - If asked a question too hard to think about **e.g.** asking the cost of the house to a child that his parents bought\n",
    "\n",
    "- Respondents may lie inadvertently\n",
    "    - May not remember if asking about something that happened a long time ago\n",
    "    - May have \"recall bias\" influenced by events that have happened since the original event **e.g.** If you remeber your college time it might be fun but on first day of your college may be you were nervous"
   ]
  },
  {
   "cell_type": "markdown",
   "id": "427f217f",
   "metadata": {},
   "source": [
    "**Hidden Bias**\n",
    "\n",
    "Question wording may induce a certain response.\n",
    "- e.g. Asking your feeling about a product that you used that is awful so you stopped using it but there is no option for if you faced any issues with the product\n",
    "\n",
    "Order of questions and wording may induce a certain response.\n",
    "- e.g. Someone asked about a smartphone you are likely not going to buy and then asked about it again after telling you about the specifications and price which made a good impression of the smartphone on you\n",
    "\n",
    "Scales of questions may not accurately measure responses.\n",
    "- e.g. The scale gien to you is 1 to 3 but you prefer a scale from 1 to 5 to have more granular feedback"
   ]
  },
  {
   "cell_type": "markdown",
   "id": "3eef8149",
   "metadata": {},
   "source": [
    "**Influence of the Interviewer**\n",
    "- Important for in-person and phone sureveys\n",
    "- Best to have interviewer from the same population as the individual from the population **e.g.** having the interviwer from the same country or locale as the individual to make the individual more comfortable for conversation rather than the individual talking to a foreign interviewer which might cause cultural and language between them"
   ]
  },
  {
   "cell_type": "markdown",
   "id": "15cf51ec",
   "metadata": {},
   "source": [
    "**Vague Wording-**\n",
    "Avoid vague terms used in a survey\n",
    "- e.g. Instead of asking \"Did you wait for a long time?\" you can ask \"How much time(in minutes) did you wait?\"\n",
    "\n",
    "If you must use vague terms, include grounding language"
   ]
  },
  {
   "cell_type": "markdown",
   "id": "e0325880",
   "metadata": {},
   "source": [
    "**Lurking variables-**\n",
    "A variable that is associated with a condition but may not cause it.\n",
    "- e.g. People of same education level do not all make the same income"
   ]
  },
  {
   "cell_type": "markdown",
   "id": "1015d560",
   "metadata": {},
   "source": [
    "\n",
    "\n",
    "------------\n",
    "\n",
    "\n"
   ]
  },
  {
   "cell_type": "markdown",
   "id": "41070321",
   "metadata": {},
   "source": [
    "## Randomization\n",
    "- Randomization is used to assign individuals to treatment groups\n",
    "- This helps prevent bias in selecting individuals for each group\n",
    "- e.g. For an experimental study, let's say effects of MSG, we are going to divide individuals to 2 groups, one will get to taste food made with MSG and the other one will get served regular food, we can use regular dice to decide to which group the individuals go to"
   ]
  },
  {
   "cell_type": "markdown",
   "id": "209e2a95",
   "metadata": {},
   "source": [
    "**Placebo-**\n",
    "A fake or regular drug, that doesn't do anything, to be used or given to the individuals in the group that is not recieving the treatment."
   ]
  },
  {
   "cell_type": "markdown",
   "id": "7e706b3e",
   "metadata": {},
   "source": [
    "**Placebo effect-**\n",
    "This occurs when there is no treatment, but the participant assumes he/she is receiving treatment and responds favorably."
   ]
  },
  {
   "cell_type": "markdown",
   "id": "1ceada11",
   "metadata": {},
   "source": [
    "**Blocked Randomization**\n",
    "- e.g. If you want men and women equal in two randomized groups, create \"blocks\" with 2 slots, one for men and the other for women\n",
    "- As people come in and enroll in thestudy and you measure them, assign them to blocks.\n",
    "- Then randomize the blocks and put the blocks in different groups."
   ]
  },
  {
   "cell_type": "markdown",
   "id": "b655cff2",
   "metadata": {},
   "source": [
    "**Blinding-**\n",
    "A person is deliberately not told of a treatment assignment is a study so he/she is not biased in reporting study information.\n",
    "\n",
    "Double-blind means study staff and participant do not know treatment assignment."
   ]
  },
  {
   "cell_type": "markdown",
   "id": "f49637f4",
   "metadata": {},
   "source": [
    "\n",
    "\n",
    "------------\n",
    "\n",
    "\n"
   ]
  },
  {
   "cell_type": "markdown",
   "id": "4006287e",
   "metadata": {},
   "source": [
    "## Frequency Tables and Stem-and-Leaf"
   ]
  },
  {
   "cell_type": "markdown",
   "id": "3d5807d8",
   "metadata": {},
   "source": [
    "**Reference for Frequency Tables-**\n",
    "- https://youtu.be/lyRbCwDDnJo\n",
    "- https://youtu.be/i_A6RiE8tLE"
   ]
  },
  {
   "cell_type": "markdown",
   "id": "039d6673",
   "metadata": {},
   "source": [
    "**Frequency Tables-**\n",
    "Rather than staying individually, data is grouped into classes and frequency of the classes is counted if the data values, in the dataset, falls with in the range of the class.\n",
    "\n",
    "Classes are a range of values.\n",
    "- e.g. 1 to 10, 11 to 20 and so on\n",
    "\n",
    "These are grouped in a meaningful way **(mostly based on scientific reasoning)**."
   ]
  },
  {
   "cell_type": "markdown",
   "id": "f3dbf00e",
   "metadata": {},
   "source": [
    "**Relative Frequency-**\n",
    "It is the proportion of the values that are in that class.\n",
    "\n",
    "frequency of a class=**f**\n",
    "\n",
    "total frequency=**n**\n",
    "\n",
    "**relative frequency= f/n**"
   ]
  },
  {
   "cell_type": "markdown",
   "id": "6ff93eb7",
   "metadata": {},
   "source": [
    "**Stems and Leafs-**\n",
    "https://www.youtube.com/watch?v=MUCvUgGfzdo&list=PL0o_zxa4K1BVsziIRdfv4Hl4UIqDZhXWV&index=14"
   ]
  },
  {
   "cell_type": "markdown",
   "id": "56293915",
   "metadata": {},
   "source": [
    "\n",
    "\n",
    "------------\n",
    "\n",
    "\n"
   ]
  },
  {
   "cell_type": "markdown",
   "id": "acba2cfe",
   "metadata": {},
   "source": [
    "## Frequency Histograms and Distributions"
   ]
  },
  {
   "cell_type": "markdown",
   "id": "fe773166",
   "metadata": {},
   "source": [
    "**Frequency Histograms-**\n",
    "Special bargraphs made from frequency tables in which bars don't have spaces in between them.\n",
    "\n",
    "**Distributions-**\n",
    "A line drawn from the edges of the bars in the histogram.\n",
    "\n",
    "5 types of Distributions(histograms):\n",
    "1. Normal\n",
    "2. Uniform\n",
    "3. Skewed Left\n",
    "4. Skewed Right\n",
    "5. Bi-Modal\n",
    "\n",
    "**Reference:**\n",
    "- **https://youtu.be/AndS0RLdxtk**\n",
    "\n",
    "**To understand Outliers**\n",
    "- **https://youtu.be/STSP8gTSdT8**"
   ]
  },
  {
   "cell_type": "markdown",
   "id": "d1faf39c",
   "metadata": {},
   "source": [
    "\n",
    "\n",
    "------------\n",
    "\n",
    "\n"
   ]
  },
  {
   "cell_type": "markdown",
   "id": "e56d0962",
   "metadata": {},
   "source": [
    "## Time Series, Bar graphs and Pie chart"
   ]
  },
  {
   "cell_type": "markdown",
   "id": "a097548a",
   "metadata": {},
   "source": [
    "**Time Series Graph-**\n",
    "Plotting Data on Y-axis against Time on X-axis.\n",
    "This graph shows changes over time and measured at regular intervals."
   ]
  },
  {
   "cell_type": "markdown",
   "id": "04a4c13c",
   "metadata": {},
   "source": [
    "**Bar Graph-**\n",
    "Displaying qualitative or quantitative data against frequency or percentage."
   ]
  },
  {
   "cell_type": "markdown",
   "id": "d0d7b319",
   "metadata": {},
   "source": [
    "**Pareto chart-**\n",
    "Shows frequencies of rare events in descending order"
   ]
  },
  {
   "cell_type": "markdown",
   "id": "20d2b165",
   "metadata": {},
   "source": [
    "**Pie Chart-**\n",
    "Shows percentage of data(mutually exclusive) as portions of a circle."
   ]
  },
  {
   "cell_type": "markdown",
   "id": "bb3f7b4d",
   "metadata": {},
   "source": [
    "\n",
    "\n",
    "------------\n",
    "\n",
    "\n"
   ]
  },
  {
   "cell_type": "markdown",
   "id": "57f11b6c",
   "metadata": {},
   "source": [
    "## Measure of Central Tendency"
   ]
  },
  {
   "cell_type": "markdown",
   "id": "1b66975c",
   "metadata": {},
   "source": [
    "**Mode-**\n",
    "Data value(s) having highest frequency.\n",
    "\n",
    "- Mode can be none or zero in a dataset e.g. 2,6,3,1,8 - doesn't contain a data value that is repeating\n",
    "- There can be multiple modes ina dataset e.g. 2,2,4,7,5,3,3,9 - 2 and 3 are modes as they have highest frequency"
   ]
  },
  {
   "cell_type": "markdown",
   "id": "c6491c5d",
   "metadata": {},
   "source": [
    "**Median-**\n",
    "Data value that is in the midpoint of the data set.\n",
    "\n",
    "Formula:\n",
    "\n",
    "total number of data values=n\n",
    "- Odd numbers of data values:\n",
    "  - median = floor value of (n/2)th data value\n",
    "- Even numbers of data values:\n",
    "  - median = average of (n/2)th, (n/2)+1th data values"
   ]
  },
  {
   "cell_type": "markdown",
   "id": "e4cfcb5e",
   "metadata": {},
   "source": [
    "**Mean-**\n",
    "Average of the data values\n",
    "\n",
    "Formula:\n",
    "\n",
    "sum of the data values = &Sum;x\n",
    "\n",
    "number of data values = n (sample) or N (population)\n",
    "- mean:\n",
    "  - sample mean( X&#772; ) = &Sum;x / n\n",
    "  - population mean( &mu; ) = &Sum;x / N"
   ]
  },
  {
   "cell_type": "markdown",
   "id": "0539501e",
   "metadata": {},
   "source": [
    "**Reference for the symbols used-https://sites.psu.edu/symbolcodes/accents/math/mathchart/#stat**"
   ]
  },
  {
   "cell_type": "markdown",
   "id": "a843309f",
   "metadata": {},
   "source": [
    "| Mean | Median |\n",
    "| :---: | :-----: |\n",
    "| Not resistant to outliers. | Resistant to outliers. |\n",
    "| Not very stable. | Stable. |"
   ]
  },
  {
   "cell_type": "markdown",
   "id": "ef7b7fe3",
   "metadata": {},
   "source": [
    "**Trimmed Mean-**\n",
    "Trimming the equal portion of values from beginning and ending of the data after sorting the values. Then calculate the mean.\n",
    "- e.g. To calculate 5% trimmed mean\n",
    "1. Sort the data values.\n",
    "2. Calculate how many data vlaues will be 5% of the dataset\n",
    "3. Remove 5% data values from the top and 5% from the bottom of the dataset"
   ]
  },
  {
   "cell_type": "markdown",
   "id": "d545f297",
   "metadata": {},
   "source": [
    "**Weighted Mean-**\n",
    "Average of the data values multiplied by their weights.\n",
    "\n",
    "Formula:\n",
    "\n",
    "sum of the data values = &Sum;(x &times; w) / &Sum;w , where x is each data value from the data set and w is the respective weight"
   ]
  },
  {
   "cell_type": "markdown",
   "id": "9c4145dc",
   "metadata": {},
   "source": [
    "---"
   ]
  },
  {
   "cell_type": "markdown",
   "id": "f110b351",
   "metadata": {},
   "source": [
    "## Measure of Variation"
   ]
  },
  {
   "cell_type": "markdown",
   "id": "00cff909",
   "metadata": {},
   "source": [
    "**Variation-**\n",
    "In general, it means how much the data values vary from each other in a data set.\n",
    "\n",
    "e.g. Let's say, Me and my brother bought 5 packets of biscuits each.\n",
    "\n",
    "The packets, which my brother bought, had same amount of biscuits:\n",
    "- 30, 30, 30, 30, 30\n",
    "\n",
    "and mine had the following amounts:\n",
    "- 29, 30, 31, 28, 32\n",
    "\n",
    "If we take each 5 as a data set and calculate the mean it is going to be 30 for both.\n",
    "\n",
    "Even if the mean is same the data in the second data set varies from each other so central tendency doesn't always gives out an idea abot the consistency of data."
   ]
  },
  {
   "cell_type": "markdown",
   "id": "95d6c6f2",
   "metadata": {},
   "source": [
    "**Range-**\n",
    "The difference between Maximum and Minimum value in a data set.\n",
    "- e.g. From 51, 37, 62, 25, 19, 44, the maximum and minimum values are 62 and 19 then the range will be 62 minus 19 i.e. 43"
   ]
  },
  {
   "cell_type": "markdown",
   "id": "f3a6f40f",
   "metadata": {},
   "source": [
    "**Variance-**\n",
    "- The overall variation of data around the mean.\n",
    "- Denoted by **s<sup>2</sup>** (sample variance)"
   ]
  },
  {
   "cell_type": "markdown",
   "id": "cda1cc6d",
   "metadata": {},
   "source": [
    "**Standard Devaiation-**\n",
    "- The variance that is standard in the data set.\n",
    "- Denoted by **s** (sample standard deviation)"
   ]
  },
  {
   "cell_type": "markdown",
   "id": "557f4892",
   "metadata": {},
   "source": [
    "**More Detailed Explanation - https://stats.stackexchange.com/a/71548**"
   ]
  },
  {
   "cell_type": "markdown",
   "id": "ef5ed0e6",
   "metadata": {},
   "source": [
    "**Fomulas:**"
   ]
  },
  {
   "cell_type": "markdown",
   "id": "113b0ae8",
   "metadata": {},
   "source": [
    "s<sup>2</sup> = &Sum; (x-X&#772;)<sup>2</sup> / n-1"
   ]
  },
  {
   "cell_type": "markdown",
   "id": "e05cbbc3",
   "metadata": {},
   "source": [
    "s = &#8730; ( &Sum; (x-X&#772;)<sup>2</sup> / n-1)"
   ]
  },
  {
   "cell_type": "markdown",
   "id": "d6cbfc87",
   "metadata": {},
   "source": [
    "Example:\n",
    "\n",
    "Let's assume we have the following set of data\n",
    "- 5, 25, 15, 10, 20\n",
    "\n",
    "| Column 1 (x) | Column 2 (x-X&#772;) |  Column 3 (x-X&#772;)<sup>2</sup>  |\n",
    "|:------------:|:--------------------:|:----------------------------------:|\n",
    "|       5      |      5-15 = -10      |       (-10)<sup>2</sup> = 100      |\n",
    "|      25      |      25-15 = 10      |       (10)<sup>2</sup> = 100       |\n",
    "|      15      |       15-15 = 0      |         (0)<sup>2</sup> = 0        |\n",
    "|      10      |      10-15 = -5      |        (-5)<sup>2</sup> = 25       |\n",
    "|      20      |       20-15 = 5      |        (5)<sup>2</sup> = 25        |\n",
    "|   &Sum;x=75  |                      | &Sum;(x-X&#772;)<sup>2</sup> = 250 |"
   ]
  },
  {
   "cell_type": "markdown",
   "id": "b5c64fa4",
   "metadata": {},
   "source": [
    "**Note:**  X&#772; = &sum;x / n = 75 / 5 = 15"
   ]
  },
  {
   "cell_type": "markdown",
   "id": "b1265fb6",
   "metadata": {},
   "source": [
    "s<sup>2</sup> = &Sum; (x-X&#772;)<sup>2</sup> / n-1 = 250 / (5-1) = 250 / 4 = 62.5"
   ]
  },
  {
   "cell_type": "markdown",
   "id": "3cb63b36",
   "metadata": {},
   "source": [
    "s = &#8730; ( &Sum; (x-X&#772;)<sup>2</sup> / n-1) = &#8730; 62.5 = 7.90"
   ]
  },
  {
   "cell_type": "markdown",
   "id": "3857b8e5",
   "metadata": {},
   "source": [
    "**Population Variance and Population Standard Deviation Formula:**\n",
    "- &sigma;<sup>2</sup> = &Sum; (x-&mu;)<sup>2</sup> / N\n",
    "- &sigma; = &#8730; ( &Sum; (x-&mu;)<sup>2</sup> / N )"
   ]
  },
  {
   "cell_type": "markdown",
   "id": "0a79d132",
   "metadata": {},
   "source": [
    "**Coefficient of Variation**\n",
    "- Shows how much data varies compared to the mean\n",
    "- In percentages\n",
    "\n",
    "**Formula:**\n",
    "\n",
    "- For Sample: (s / X&#772;) &times; 100\n",
    "- For Population: (&sigma; / &mu;) &times; 100"
   ]
  },
  {
   "cell_type": "markdown",
   "id": "35cedc38",
   "metadata": {},
   "source": [
    "In the above example:\n",
    "- (s / X&#772;) &times; 100 = (7.90 / 15) &times; 100 = 52.66%"
   ]
  },
  {
   "cell_type": "markdown",
   "id": "3cb6662e",
   "metadata": {},
   "source": [
    "**Chebyshev Theorem-**\n",
    "Adding and subtracting s(&sigma;) from X&#772;(&mu;) will give an upper limit and a lower limit. Some percentage of the data values will reside in between this upper limit and lower limit."
   ]
  },
  {
   "cell_type": "markdown",
   "id": "1d125d32",
   "metadata": {},
   "source": [
    "- For 2 times s(&sigma;) or 2&times;s : 75% of data values will reside between the upper limit and lower limit\n",
    "- For 3 times s(&sigma;) or 3&times;s : 88.9% of data values will reside between the upper limit and lower limit\n",
    "- For 4 times s(&sigma;) or 4&times;s : 93.8% of data values will reside between the upper limit and lower limit"
   ]
  },
  {
   "cell_type": "markdown",
   "id": "173c7309",
   "metadata": {},
   "source": [
    "- 75% limits: 15 &pm; (2 &times; 7.90) = -0.8 to 30.8\n",
    "- 88.9% limits: 15 &pm; (3 &times; 7.90) = -8.7 to 38.7\n",
    "- 93.8% limits: 15 &pm; (4 &times; 7.90) = -16.6 to 46.6"
   ]
  },
  {
   "cell_type": "markdown",
   "id": "7a64c6b5",
   "metadata": {},
   "source": [
    "**Interpretation:**\n",
    "- At least 75% of data values are between -0.8 to 30.8\n",
    "- At least 88.9% of data values are between -8.7 to 38.7\n",
    "- At least 93.8% of data values are between -16.6 to 46.6"
   ]
  },
  {
   "cell_type": "markdown",
   "id": "106ecb63",
   "metadata": {},
   "source": [
    "**Note**\n",
    "- The interval between upper limit and lower limit is called as Chebyshev's interval.\n",
    "- This works for any distributions(Normal, Skewed, etc.).\n",
    "- Chebyshev's interval indicates that at least some % of data values are going to reside in that interval."
   ]
  },
  {
   "cell_type": "markdown",
   "id": "bdcd6ad8",
   "metadata": {},
   "source": [
    "---"
   ]
  },
  {
   "cell_type": "markdown",
   "id": "f7ed8afe",
   "metadata": {},
   "source": [
    "## Percentile, Box-and-whisker-plots"
   ]
  },
  {
   "cell_type": "markdown",
   "id": "99d1d5bd",
   "metadata": {},
   "source": [
    "**Percentile-**\n",
    "nth percentile,a data value, in a data set is n% of data that will be equal to or will fall below it.\n",
    "\n",
    "- e.g. Let's assume there are100 data values in a data set. 75th percentile will be the data value which will be higher than or equal to 75% of the data values in the data set. It will also mean that the data value will be less than or equal to 25% of the data values in the data set.\n",
    "\n",
    "**More in depth:**\n",
    "- [Blog](https://www.thoughtco.com/what-is-a-percentile-3126238)\n",
    "- [Video resource](https://youtu.be/40o82o3uNfk)"
   ]
  },
  {
   "cell_type": "markdown",
   "id": "e179166a",
   "metadata": {},
   "source": [
    "**Quartiles-**\n",
    "- Specific set of percentiles\n",
    "- 1st quartile: 25th percentile\n",
    "- 2nd quartile: 50th percentile(median)\n",
    "- 3rd quartile: 75th percentile"
   ]
  },
  {
   "cell_type": "markdown",
   "id": "b711ab35",
   "metadata": {},
   "source": [
    "**Steps to find the quartiles:**\n",
    "1. Sort the data set from smallest to largest\n",
    "2. Find the median(2nd quartile or 50th percentile)\n",
    "3. Find the median of the lower half(1st quartile or 25th percentile)\n",
    "4. Find the median of the upper half(3rd quartile or 75th percentile)"
   ]
  },
  {
   "cell_type": "markdown",
   "id": "7de3d2ee",
   "metadata": {},
   "source": [
    "Inter-Quartile range( **IQR** ): Q3 &minus; Q1\n",
    "\n",
    "- e.g. We have this data set: 41, 74, 90, 97, 121, 126, 142, 155, 254, 318, 364\n",
    "- Median(Q2 or 50th percentile) = 126\n",
    "- Q1(25th percentile) = Median of (41, 74, 90, 97, 121) = 90\n",
    "- Q3(75th percentile) = Median of (142, 155, 254, 318, 364) = 254\n",
    "\n",
    "**IQR** = Q3 &minus; Q1 = 254 &minus; 90 = 164"
   ]
  },
  {
   "cell_type": "markdown",
   "id": "29680c97",
   "metadata": {},
   "source": [
    "**Box and Whisker Plot- https://youtu.be/mhaGAaL6Abw**"
   ]
  },
  {
   "cell_type": "markdown",
   "id": "21649861",
   "metadata": {},
   "source": []
  },
  {
   "cell_type": "markdown",
   "id": "44b222df",
   "metadata": {},
   "source": []
  },
  {
   "cell_type": "markdown",
   "id": "eca0e69a",
   "metadata": {},
   "source": []
  },
  {
   "cell_type": "markdown",
   "id": "b870503a",
   "metadata": {},
   "source": []
  },
  {
   "cell_type": "markdown",
   "id": "44d71a55",
   "metadata": {},
   "source": []
  },
  {
   "cell_type": "markdown",
   "id": "5333f741",
   "metadata": {},
   "source": []
  },
  {
   "cell_type": "markdown",
   "id": "de82c632",
   "metadata": {},
   "source": []
  },
  {
   "cell_type": "markdown",
   "id": "7acad50c",
   "metadata": {},
   "source": []
  },
  {
   "cell_type": "markdown",
   "id": "af73c357",
   "metadata": {},
   "source": []
  },
  {
   "cell_type": "markdown",
   "id": "ce90185c",
   "metadata": {},
   "source": []
  },
  {
   "cell_type": "markdown",
   "id": "56ff5e8a",
   "metadata": {},
   "source": []
  },
  {
   "cell_type": "markdown",
   "id": "14c3ae2e",
   "metadata": {},
   "source": []
  },
  {
   "cell_type": "markdown",
   "id": "e5ad3766",
   "metadata": {},
   "source": []
  },
  {
   "cell_type": "markdown",
   "id": "89848321",
   "metadata": {},
   "source": []
  },
  {
   "cell_type": "markdown",
   "id": "ba75e4c1",
   "metadata": {},
   "source": []
  },
  {
   "cell_type": "markdown",
   "id": "6bfbcc79",
   "metadata": {},
   "source": []
  },
  {
   "cell_type": "markdown",
   "id": "00bb38fe",
   "metadata": {},
   "source": []
  }
 ],
 "metadata": {
  "kernelspec": {
   "display_name": "Python 3 (ipykernel)",
   "language": "python",
   "name": "python3"
  },
  "language_info": {
   "codemirror_mode": {
    "name": "ipython",
    "version": 3
   },
   "file_extension": ".py",
   "mimetype": "text/x-python",
   "name": "python",
   "nbconvert_exporter": "python",
   "pygments_lexer": "ipython3",
   "version": "3.9.9"
  }
 },
 "nbformat": 4,
 "nbformat_minor": 5
}
