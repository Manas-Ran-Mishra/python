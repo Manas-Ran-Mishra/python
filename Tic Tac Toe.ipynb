{
 "cells": [
  {
   "cell_type": "markdown",
   "metadata": {},
   "source": [
    "## Just a function to test clear_output()"
   ]
  },
  {
   "cell_type": "code",
   "execution_count": 1,
   "metadata": {},
   "outputs": [],
   "source": [
    "from IPython.display import clear_output\n",
    "\n",
    "def disp_func():\n",
    "    opt = 'yes'\n",
    "    temp = 0\n",
    "    while opt == 'yes':\n",
    "        usr_ip = int(input('Enter a number: '))\n",
    "        print(usr_ip)\n",
    "        temp = temp + usr_ip\n",
    "        print(temp)\n",
    "        opt = input('Do u want 2 continue yes or no:')\n",
    "        clear_output()\n",
    "    print('Thank u 4 playing')"
   ]
  },
  {
   "cell_type": "code",
   "execution_count": 2,
   "metadata": {},
   "outputs": [
    {
     "name": "stdout",
     "output_type": "stream",
     "text": [
      "Thank u 4 playing\n"
     ]
    }
   ],
   "source": [
    "disp_func()"
   ]
  },
  {
   "cell_type": "markdown",
   "metadata": {},
   "source": [
    "## Just to print board design"
   ]
  },
  {
   "cell_type": "code",
   "execution_count": 3,
   "metadata": {},
   "outputs": [
    {
     "name": "stdout",
     "output_type": "stream",
     "text": [
      "Thanks\n"
     ]
    }
   ],
   "source": [
    "print('U r playr 1')\n",
    "opt = 'yes'\n",
    "while opt == 'yes':\n",
    "    choice = input('Choose X or O :')\n",
    "    if choice == 'X':\n",
    "        print('  X |  O |  X \\n____|____|____\\n  O |  X |  O \\n____|____|____\\n  X |  O |  X \\n    |    |    ')\n",
    "    elif choice == 'O':\n",
    "        print('  O |  X |  O \\n____|____|____\\n  X |  O |  X \\n____|____|____\\n  O |  X |  O \\n    |    |    ')\n",
    "    else:\n",
    "        pass\n",
    "    opt = input('Enter yes or no')\n",
    "    clear_output()\n",
    "print('Thanks')"
   ]
  },
  {
   "cell_type": "markdown",
   "metadata": {},
   "source": [
    "## Testing position mapping"
   ]
  },
  {
   "cell_type": "code",
   "execution_count": 6,
   "metadata": {},
   "outputs": [
    {
     "name": "stdout",
     "output_type": "stream",
     "text": [
      "Enter a number(1-9):7\n",
      "Enter a number(1-9):3\n",
      "Enter a number(1-9):2\n",
      "Enter a number(1-9):8\n",
      "Enter a number(1-9):5\n",
      "Enter a number(1-9):9\n",
      "Enter a number(1-9):1\n",
      "Enter a number(1-9):4\n",
      "Enter a number(1-9):6\n",
      "dict_items([(1, 'X'), (2, 'X'), (3, 'O'), (4, 'O'), (5, 'X'), (6, 'X'), (7, 'X'), (8, 'O'), (9, 'O')])\n"
     ]
    }
   ],
   "source": [
    "lst1 = ['X','O','X','O','X','O','X','O','X']\n",
    "dct1 = {1:'',2:'',3:'',4:'',5:'',6:'',7:'',8:'',9:''}\n",
    "for item in lst1:\n",
    "    num = int(input('Enter a number(1-9):'))\n",
    "    dct1[num] = item\n",
    "print(dct1.items())"
   ]
  },
  {
   "cell_type": "code",
   "execution_count": 34,
   "metadata": {},
   "outputs": [
    {
     "name": "stdout",
     "output_type": "stream",
     "text": [
      "   |   |   \n",
      "-----------\n",
      " O |   |   \n",
      "-----------\n",
      "   |   |   \n",
      "\n",
      "Player Quits\n",
      "\n",
      "\n",
      "Thank you for playing\n"
     ]
    }
   ],
   "source": [
    "from IPython.display import clear_output\n",
    "count = 0\n",
    "tie = False\n",
    "turn = 1\n",
    "play_list = choice()\n",
    "dct1 = {1:' ',2:' ',3:' ',4:' ',5:' ',6:' ',7:' ',8:' ',9:' '}\n",
    "while count < 9:\n",
    "    clear_output()\n",
    "    turn = playr_turn(turn)\n",
    "    show_table()\n",
    "    num = int(input('Enter a number(1-9):'))\n",
    "    if number_checker(num,dct1[num]):\n",
    "        dct1[num] = play_list[count]\n",
    "        if count >= 4:\n",
    "            if not check(num,dct1,play_list[count],count):\n",
    "                break\n",
    "        count += 1\n",
    "    if option():\n",
    "        continue\n",
    "    else:\n",
    "        tie = False\n",
    "        turn = playr_turn(3)\n",
    "        break\n",
    "clear_output()\n",
    "show_table()\n",
    "if tie and not fill(dct1):\n",
    "    print('\\nTied')\n",
    "else:\n",
    "    win(turn)\n",
    "print('\\nThank you for playing')"
   ]
  },
  {
   "cell_type": "code",
   "execution_count": 13,
   "metadata": {},
   "outputs": [],
   "source": [
    "def show_table():\n",
    "    print(f' {dct1[7]} | {dct1[8]} | {dct1[9]} \\n-----------\\n {dct1[4]} | {dct1[5]} | {dct1[6]} \\n-----------\\n {dct1[1]} | {dct1[2]} | {dct1[3]} ')"
   ]
  },
  {
   "cell_type": "code",
   "execution_count": 12,
   "metadata": {},
   "outputs": [],
   "source": [
    "def option():\n",
    "    show_table()\n",
    "    opt = input('Continue plying (yes or no) : ')\n",
    "    if opt == 'yes':\n",
    "        return True\n",
    "    elif opt == 'no':\n",
    "        return False\n",
    "    else:\n",
    "        clear_output()\n",
    "        return option()"
   ]
  },
  {
   "cell_type": "code",
   "execution_count": 11,
   "metadata": {},
   "outputs": [],
   "source": [
    "def number_checker(n,d):\n",
    "    if n >= 1 or n <= 9:\n",
    "        if d == ' ':\n",
    "            return True\n",
    "        else:\n",
    "            print('Entry exists')\n",
    "            return False\n",
    "    else:\n",
    "        print('out of bounds')\n",
    "        return False"
   ]
  },
  {
   "cell_type": "code",
   "execution_count": 10,
   "metadata": {},
   "outputs": [],
   "source": [
    "def choice():\n",
    "    lst = ['X','O']\n",
    "    if input(\"Make your choice Player1('X' or 'O')\") == 'X':\n",
    "        return (4*lst) + ['X']\n",
    "    else:\n",
    "        return (4*lst[::-1]) + ['O']"
   ]
  },
  {
   "cell_type": "code",
   "execution_count": 20,
   "metadata": {},
   "outputs": [
    {
     "ename": "SyntaxError",
     "evalue": "invalid syntax (<ipython-input-20-4fbc27aaaeb0>, line 1)",
     "output_type": "error",
     "traceback": [
      "\u001b[1;36m  File \u001b[1;32m\"<ipython-input-20-4fbc27aaaeb0>\"\u001b[1;36m, line \u001b[1;32m1\u001b[0m\n\u001b[1;33m    nwlist = [6,7,3,8,5,4,6,break,1,9,8,4,5,1]\u001b[0m\n\u001b[1;37m                                ^\u001b[0m\n\u001b[1;31mSyntaxError\u001b[0m\u001b[1;31m:\u001b[0m invalid syntax\n"
     ]
    }
   ],
   "source": [
    "nwlist = [6,7,3,8,5,4,6,break,1,9,8,4,5,1]\n",
    "for x in nwlist:\n",
    "    if x:\n",
    "        print('hi')\n",
    "    else:\n",
    "        print('hello')"
   ]
  },
  {
   "cell_type": "code",
   "execution_count": 9,
   "metadata": {},
   "outputs": [],
   "source": [
    "def playr_turn(turn):\n",
    "    if turn == 1:\n",
    "        print(\"\\nPlayer 1's turn\\n\")\n",
    "        return 2\n",
    "    elif turn == 2:\n",
    "        print(\"\\nPlayer 2's turn\\n\")\n",
    "        return 1\n",
    "    else:\n",
    "        return 3"
   ]
  },
  {
   "cell_type": "code",
   "execution_count": null,
   "metadata": {},
   "outputs": [],
   "source": [
    "def check(n,d,li,turn):\n",
    "    if n in [1,2,3]:\n",
    "        if check_all(1,2,3,li):\n",
    "            return False\n",
    "        elif check_all(n,n+3,n+6,li):\n",
    "            return False\n",
    "        elif n==1:\n",
    "            if check_all(1,5,9,li):\n",
    "                return False\n",
    "        elif n==3:\n",
    "            if check_all(3,5,7,li):\n",
    "                return False\n",
    "        elif fill(d):\n",
    "            return True\n",
    "    elif n in [7,8,9]:\n",
    "        if check_all(7,8,9,li):\n",
    "            return False\n",
    "        elif check_all(n,n-3,n-6,li):\n",
    "            return False\n",
    "        elif n== 9:\n",
    "            if check_all(1,5,9,li):\n",
    "                return False\n",
    "        elif n == 7:\n",
    "            if check_all(3,5,7,li):\n",
    "                return False\n",
    "        elif fill(d):\n",
    "            return True\n",
    "    elif n in [4,6]:\n",
    "        if check_all(4,5,6,li):\n",
    "            return False\n",
    "        elif n == 4 or n == 6:\n",
    "            if check_all(n,n+3,n-3,li):\n",
    "                return False\n",
    "        elif fill(d):\n",
    "            return True\n",
    "    elif n == 5:\n",
    "        if check_all(4,5,6,li):\n",
    "            return False\n",
    "        elif check_all(n,n+3,n-3,li):\n",
    "            return False\n",
    "        elif check_all(1,5,9,li):\n",
    "            return False\n",
    "        elif check_all(3,5,7,li):\n",
    "            return False"
   ]
  },
  {
   "cell_type": "code",
   "execution_count": 8,
   "metadata": {},
   "outputs": [],
   "source": [
    "def win(turn):\n",
    "    if turn == 2:\n",
    "        print('\\nPlayer 1 won\\n')\n",
    "    elif turn == 1:\n",
    "        print('\\nPlayer 2 won\\n')\n",
    "    else:\n",
    "        print('\\nPlayer Quits\\n')"
   ]
  },
  {
   "cell_type": "code",
   "execution_count": 7,
   "metadata": {},
   "outputs": [],
   "source": [
    "def fill(d):\n",
    "    c = 0\n",
    "    for val in d.values():\n",
    "        if val != ' ':\n",
    "            c += 1\n",
    "    if c == 9:\n",
    "        return False\n",
    "    else:\n",
    "        return True"
   ]
  },
  {
   "cell_type": "code",
   "execution_count": 6,
   "metadata": {},
   "outputs": [],
   "source": [
    "def check_all(num1,num2,num3,li):\n",
    "    if num1 == num2 == num3 == li:\n",
    "        return True\n",
    "    else:\n",
    "        return False"
   ]
  },
  {
   "cell_type": "code",
   "execution_count": 25,
   "metadata": {},
   "outputs": [],
   "source": [
    "def check(n,d,li,c):\n",
    "    global tie\n",
    "    if n == 1 or n == 3 or n == 5 or n == 7 or n == 9:\n",
    "        if check_all(d[1],d[5],d[9],li):\n",
    "            return False\n",
    "        elif check_all(d[3],d[5],d[7],li):\n",
    "            return False\n",
    "    if n == 5 or n == 4 or n == 6:\n",
    "        if check_all(d[n],d[n+3],d[n-3],li):\n",
    "            return False\n",
    "        elif check_all(d[4],d[5],d[6],li):\n",
    "            return False\n",
    "    if n == 1 or n == 2 or n == 3:\n",
    "        if check_all(d[1],d[2],d[3],li):\n",
    "            return False\n",
    "        elif check_all(d[n],d[n+3],d[n+6],li):\n",
    "            return False\n",
    "    if n == 7 or n == 8 or n == 9:\n",
    "        if check_all(d[7],d[8],d[9],li):\n",
    "            return False\n",
    "        elif check_all(d[n],d[n-3],d[n-6],li):\n",
    "            return False\n",
    "        else:\n",
    "            if c == 8:\n",
    "                tie = True\n",
    "            return fill(d)\n",
    "    else:\n",
    "        if c == 8:\n",
    "            tie = True\n",
    "        return fill(d)"
   ]
  },
  {
   "cell_type": "code",
   "execution_count": 29,
   "metadata": {},
   "outputs": [
    {
     "name": "stdout",
     "output_type": "stream",
     "text": [
      "enter no=7\n",
      "no. is in range 5-10\n",
      "enter no=12\n",
      "no. greater than 10\n",
      "no. out of bounds\n",
      "enter no=6\n",
      "no. is in range 5-10\n",
      "enter no=7\n",
      "no. is in range 5-10\n",
      "enter no=89\n",
      "no. greater than 10\n",
      "no. out of bounds\n",
      "enter no=2\n",
      "no. out of bounds\n",
      "enter no=3\n",
      "no. out of bounds\n",
      "enter no=12\n",
      "no. greater than 10\n",
      "no. out of bounds\n",
      "enter no=65\n",
      "no. greater than 10\n",
      "no. out of bounds\n",
      "enter no=76\n",
      "no. greater than 10\n",
      "no. out of bounds\n"
     ]
    }
   ],
   "source": [
    "i=0\n",
    "while i<10:\n",
    "    i+=1\n",
    "    inp= int(input('enter no='))\n",
    "    zest(inp)"
   ]
  },
  {
   "cell_type": "code",
   "execution_count": 30,
   "metadata": {},
   "outputs": [],
   "source": [
    "def zest(n):\n",
    "    if n>10:\n",
    "        print('no. greater than 10')\n",
    "    if n>5 and n<10:\n",
    "        print('no. is in range 5-10')\n",
    "    else:\n",
    "        print('no. out of bounds')"
   ]
  },
  {
   "cell_type": "markdown",
   "metadata": {},
   "source": [
    "# Above example shows that in a structure like the following:\n",
    "<code>if [condition]:\n",
    "    statements\n",
    "if [another condition]:\n",
    "    statements\n",
    "else:\n",
    "    statements</code>\n",
    "  \n",
    "**The first 'if' condition will always execute when the 'condition' is true with the 'else' statement but the second 'if' statement will bundle with the 'else' statement and only one of them will execute depending on the condition**"
   ]
  },
  {
   "cell_type": "markdown",
   "metadata": {},
   "source": [
    "### No matter how many 'if' conditions are there but only the last 'if' condition will bundle itself with 'else' condition"
   ]
  },
  {
   "cell_type": "code",
   "execution_count": 8,
   "metadata": {},
   "outputs": [],
   "source": [
    "asandif = 56\n",
    "callinafunc()"
   ]
  },
  {
   "cell_type": "code",
   "execution_count": 6,
   "metadata": {},
   "outputs": [],
   "source": [
    "def callinafunc():\n",
    "    global asandif\n",
    "    asandif = 78"
   ]
  },
  {
   "cell_type": "code",
   "execution_count": 9,
   "metadata": {},
   "outputs": [
    {
     "data": {
      "text/plain": [
       "78"
      ]
     },
     "execution_count": 9,
     "metadata": {},
     "output_type": "execute_result"
    }
   ],
   "source": [
    "asandif"
   ]
  },
  {
   "cell_type": "markdown",
   "metadata": {},
   "source": [
    "## The above is used for an occurance of tie"
   ]
  },
  {
   "cell_type": "code",
   "execution_count": 4,
   "metadata": {},
   "outputs": [],
   "source": [
    "def option2(d):\n",
    "    from IPython.display import clear_output\n",
    "    show_table2(d)\n",
    "    opt = input('Continue plying (yes or no) : ')\n",
    "    if opt == 'yes':\n",
    "        return True\n",
    "    elif opt == 'no':\n",
    "        return False\n",
    "    else:\n",
    "        clear_output()\n",
    "        return option2(d)"
   ]
  },
  {
   "cell_type": "code",
   "execution_count": 17,
   "metadata": {},
   "outputs": [],
   "source": [
    "def check2(n,d,li,c):\n",
    "    global tie2\n",
    "    if n == 1 or n == 3 or n == 5 or n == 7 or n == 9:\n",
    "        if check_all(d[1],d[5],d[9],li):\n",
    "            return False\n",
    "        elif check_all(d[3],d[5],d[7],li):\n",
    "            return False\n",
    "    if n == 5 or n == 4 or n == 6:\n",
    "        if check_all(d[n],d[n+3],d[n-3],li):\n",
    "            return False\n",
    "        elif check_all(d[4],d[5],d[6],li):\n",
    "            return False\n",
    "    if n == 1 or n == 2 or n == 3:\n",
    "        if check_all(d[1],d[2],d[3],li):\n",
    "            return False\n",
    "        elif check_all(d[n],d[n+3],d[n+6],li):\n",
    "            return False\n",
    "    if n == 7 or n == 8 or n == 9:\n",
    "        if check_all(d[7],d[8],d[9],li):\n",
    "            return False\n",
    "        elif check_all(d[n],d[n-3],d[n-6],li):\n",
    "            return False\n",
    "        else:\n",
    "            if c == 8:\n",
    "                tie2 = True\n",
    "            return fill(d)\n",
    "    else:\n",
    "        if c == 8:\n",
    "            tie2 = True\n",
    "        return fill(d)"
   ]
  },
  {
   "cell_type": "code",
   "execution_count": 5,
   "metadata": {},
   "outputs": [],
   "source": [
    "def show_table2(d):\n",
    "    print(f' {d[7]} | {d[8]} | {d[9]} \\n-----------\\n {d[4]} | {d[5]} | {d[6]} \\n-----------\\n {d[1]} | {d[2]} | {d[3]} ')"
   ]
  },
  {
   "cell_type": "code",
   "execution_count": 14,
   "metadata": {},
   "outputs": [],
   "source": [
    "tie2 = False\n",
    "def tic_tac_toe():\n",
    "    global tie2\n",
    "    from IPython.display import clear_output\n",
    "    count = 0\n",
    "    turn = 1\n",
    "    play_list = choice()\n",
    "    dct2 = {1:' ',2:' ',3:' ',4:' ',5:' ',6:' ',7:' ',8:' ',9:' '}\n",
    "    while count < 9:\n",
    "        clear_output()\n",
    "        turn = playr_turn(turn)\n",
    "        show_table2(dct2)\n",
    "        num = int(input('Enter a number(1-9):'))\n",
    "        if number_checker(num,dct2[num]):\n",
    "            dct2[num] = play_list[count]\n",
    "            if count >= 4:\n",
    "                if not check2(num,dct2,play_list[count],count):\n",
    "                    break\n",
    "            count += 1\n",
    "        if option2(dct2):\n",
    "            continue\n",
    "        else:\n",
    "            tie2 = False\n",
    "            turn = playr_turn(3)\n",
    "            break\n",
    "    clear_output()\n",
    "    show_table2(dct2)\n",
    "    if tie2 and not fill(dct2):\n",
    "        print('\\nTied')\n",
    "    else:\n",
    "        win(turn)\n",
    "    print('\\nThank you for playing')"
   ]
  },
  {
   "cell_type": "markdown",
   "metadata": {},
   "source": [
    "## Below cells will be used for playing the game"
   ]
  },
  {
   "cell_type": "code",
   "execution_count": 71,
   "metadata": {},
   "outputs": [
    {
     "name": "stdout",
     "output_type": "stream",
     "text": [
      " O | X | X \n",
      "-----------\n",
      " X | O | O \n",
      "-----------\n",
      " O | O | X \n",
      "\n",
      "Tied\n",
      "\n",
      "Thank you for playing\n"
     ]
    }
   ],
   "source": [
    "tic_tac_toe()"
   ]
  },
  {
   "cell_type": "code",
   "execution_count": 69,
   "metadata": {},
   "outputs": [
    {
     "name": "stdout",
     "output_type": "stream",
     "text": [
      " O | O | X \n",
      "-----------\n",
      "   | X |   \n",
      "-----------\n",
      " X | X | O \n",
      "\n",
      "Player 1 won\n",
      "\n",
      "\n",
      "Thank you for playing\n"
     ]
    }
   ],
   "source": [
    "tic_tac_toe()"
   ]
  },
  {
   "cell_type": "code",
   "execution_count": 16,
   "metadata": {},
   "outputs": [
    {
     "name": "stdout",
     "output_type": "stream",
     "text": [
      "   |   |   \n",
      "-----------\n",
      "   |   |   \n",
      "-----------\n",
      "   |   | O \n",
      "\n",
      "Player Quits\n",
      "\n",
      "\n",
      "Thank you for playing\n"
     ]
    }
   ],
   "source": [
    "tic_tac_toe()"
   ]
  },
  {
   "cell_type": "code",
   "execution_count": 12,
   "metadata": {},
   "outputs": [
    {
     "name": "stdout",
     "output_type": "stream",
     "text": [
      " O | X | O \n",
      "-----------\n",
      " X | X | O \n",
      "-----------\n",
      " X | O | X \n",
      "\n",
      "Tied\n",
      "\n",
      "Thank you for playing\n"
     ]
    }
   ],
   "source": [
    "tic_tac_toe()"
   ]
  },
  {
   "cell_type": "code",
   "execution_count": 13,
   "metadata": {},
   "outputs": [
    {
     "name": "stdout",
     "output_type": "stream",
     "text": [
      " O | X | O \n",
      "-----------\n",
      "   | X |   \n",
      "-----------\n",
      "   | X |   \n",
      "\n",
      "Player 1 won\n",
      "\n",
      "\n",
      "Thank you for playing\n"
     ]
    }
   ],
   "source": [
    "tic_tac_toe()"
   ]
  },
  {
   "cell_type": "code",
   "execution_count": 14,
   "metadata": {},
   "outputs": [
    {
     "name": "stdout",
     "output_type": "stream",
     "text": [
      " O | X | O \n",
      "-----------\n",
      " X | X | O \n",
      "-----------\n",
      " X | O | X \n",
      "\n",
      "Tied\n",
      "\n",
      "Thank you for playing\n"
     ]
    }
   ],
   "source": [
    "tic_tac_toe()"
   ]
  },
  {
   "cell_type": "code",
   "execution_count": 15,
   "metadata": {},
   "outputs": [
    {
     "name": "stdout",
     "output_type": "stream",
     "text": [
      " X | X | O \n",
      "-----------\n",
      " O | O | X \n",
      "-----------\n",
      " X | O | X \n",
      "\n",
      "Tied\n",
      "\n",
      "Thank you for playing\n"
     ]
    }
   ],
   "source": [
    "tic_tac_toe()"
   ]
  },
  {
   "cell_type": "code",
   "execution_count": 16,
   "metadata": {},
   "outputs": [
    {
     "name": "stdout",
     "output_type": "stream",
     "text": [
      " X | X | X \n",
      "-----------\n",
      " X | O |   \n",
      "-----------\n",
      " O |   | O \n",
      "\n",
      "Player 1 won\n",
      "\n",
      "\n",
      "Thank you for playing\n"
     ]
    }
   ],
   "source": [
    "tic_tac_toe()"
   ]
  },
  {
   "cell_type": "code",
   "execution_count": 17,
   "metadata": {},
   "outputs": [
    {
     "name": "stdout",
     "output_type": "stream",
     "text": [
      " O |   | X \n",
      "-----------\n",
      " O | X | O \n",
      "-----------\n",
      " O | X | X \n",
      "\n",
      "Player 2 won\n",
      "\n",
      "\n",
      "Thank you for playing\n"
     ]
    }
   ],
   "source": [
    "tic_tac_toe()"
   ]
  },
  {
   "cell_type": "code",
   "execution_count": 15,
   "metadata": {},
   "outputs": [
    {
     "name": "stdout",
     "output_type": "stream",
     "text": [
      " X |   |   \n",
      "-----------\n",
      "   |   |   \n",
      "-----------\n",
      "   |   |   \n",
      "\n",
      "Player Quits\n",
      "\n",
      "\n",
      "Thank you for playing\n"
     ]
    }
   ],
   "source": [
    "tic_tac_toe()"
   ]
  },
  {
   "cell_type": "code",
   "execution_count": 18,
   "metadata": {},
   "outputs": [
    {
     "name": "stdout",
     "output_type": "stream",
     "text": [
      " X | O | X \n",
      "-----------\n",
      " X | X | O \n",
      "-----------\n",
      " O | X | O \n",
      "\n",
      "Tied\n",
      "\n",
      "Thank you for playing\n"
     ]
    }
   ],
   "source": [
    "tic_tac_toe()"
   ]
  },
  {
   "cell_type": "code",
   "execution_count": 19,
   "metadata": {},
   "outputs": [
    {
     "name": "stdout",
     "output_type": "stream",
     "text": [
      " O | X | X \n",
      "-----------\n",
      " X | O | O \n",
      "-----------\n",
      " X | O | X \n",
      "\n",
      "Tied\n",
      "\n",
      "Thank you for playing\n"
     ]
    }
   ],
   "source": [
    "tic_tac_toe()"
   ]
  },
  {
   "cell_type": "code",
   "execution_count": 20,
   "metadata": {},
   "outputs": [
    {
     "name": "stdout",
     "output_type": "stream",
     "text": [
      " O |   | O \n",
      "-----------\n",
      " X | X | X \n",
      "-----------\n",
      " O |   | X \n",
      "\n",
      "Player 1 won\n",
      "\n",
      "\n",
      "Thank you for playing\n"
     ]
    }
   ],
   "source": [
    "tic_tac_toe()"
   ]
  },
  {
   "cell_type": "code",
   "execution_count": 21,
   "metadata": {},
   "outputs": [
    {
     "name": "stdout",
     "output_type": "stream",
     "text": [
      " X | O | X \n",
      "-----------\n",
      " X | X | O \n",
      "-----------\n",
      " O | X | O \n",
      "\n",
      "Tied\n",
      "\n",
      "Thank you for playing\n"
     ]
    }
   ],
   "source": [
    "tic_tac_toe()"
   ]
  },
  {
   "cell_type": "code",
   "execution_count": 22,
   "metadata": {},
   "outputs": [
    {
     "name": "stdout",
     "output_type": "stream",
     "text": [
      " O | O | X \n",
      "-----------\n",
      " X | X | O \n",
      "-----------\n",
      " O | X | X \n",
      "\n",
      "Tied\n",
      "\n",
      "Thank you for playing\n"
     ]
    }
   ],
   "source": [
    "tic_tac_toe()"
   ]
  },
  {
   "cell_type": "code",
   "execution_count": 23,
   "metadata": {},
   "outputs": [
    {
     "name": "stdout",
     "output_type": "stream",
     "text": [
      "   | X | O \n",
      "-----------\n",
      "   | O | X \n",
      "-----------\n",
      " O | X |   \n",
      "\n",
      "Player 2 won\n",
      "\n",
      "\n",
      "Thank you for playing\n"
     ]
    }
   ],
   "source": [
    "tic_tac_toe()"
   ]
  },
  {
   "cell_type": "code",
   "execution_count": 25,
   "metadata": {},
   "outputs": [
    {
     "name": "stdout",
     "output_type": "stream",
     "text": [
      " O | X | X \n",
      "-----------\n",
      " X | O | O \n",
      "-----------\n",
      " O | X | X \n",
      "\n",
      "Tied\n",
      "\n",
      "Thank you for playing\n"
     ]
    }
   ],
   "source": [
    "tic_tac_toe()"
   ]
  },
  {
   "cell_type": "code",
   "execution_count": 26,
   "metadata": {},
   "outputs": [
    {
     "name": "stdout",
     "output_type": "stream",
     "text": [
      " O | X | O \n",
      "-----------\n",
      " X | O | X \n",
      "-----------\n",
      " X | O | X \n",
      "\n",
      "Tied\n",
      "\n",
      "Thank you for playing\n"
     ]
    }
   ],
   "source": [
    "tic_tac_toe()"
   ]
  },
  {
   "cell_type": "code",
   "execution_count": 27,
   "metadata": {},
   "outputs": [
    {
     "name": "stdout",
     "output_type": "stream",
     "text": [
      " O |   | X \n",
      "-----------\n",
      "   | O | X \n",
      "-----------\n",
      " X |   | O \n",
      "\n",
      "Player 2 won\n",
      "\n",
      "\n",
      "Thank you for playing\n"
     ]
    }
   ],
   "source": [
    "tic_tac_toe()"
   ]
  },
  {
   "cell_type": "code",
   "execution_count": 28,
   "metadata": {
    "scrolled": true
   },
   "outputs": [
    {
     "name": "stdout",
     "output_type": "stream",
     "text": [
      " O | X | O \n",
      "-----------\n",
      " X | X | O \n",
      "-----------\n",
      " X | O | X \n",
      "\n",
      "Tied\n",
      "\n",
      "Thank you for playing\n"
     ]
    }
   ],
   "source": [
    "tic_tac_toe()"
   ]
  },
  {
   "cell_type": "code",
   "execution_count": 29,
   "metadata": {},
   "outputs": [
    {
     "name": "stdout",
     "output_type": "stream",
     "text": [
      " O | X | O \n",
      "-----------\n",
      " O | X | X \n",
      "-----------\n",
      " X | O | X \n",
      "\n",
      "Tied\n",
      "\n",
      "Thank you for playing\n"
     ]
    }
   ],
   "source": [
    "tic_tac_toe()"
   ]
  },
  {
   "cell_type": "code",
   "execution_count": 30,
   "metadata": {},
   "outputs": [
    {
     "name": "stdout",
     "output_type": "stream",
     "text": [
      " X | O | X \n",
      "-----------\n",
      "   | X | O \n",
      "-----------\n",
      " O |   | X \n",
      "\n",
      "Player 1 won\n",
      "\n",
      "\n",
      "Thank you for playing\n"
     ]
    }
   ],
   "source": [
    "tic_tac_toe()"
   ]
  },
  {
   "cell_type": "code",
   "execution_count": 31,
   "metadata": {},
   "outputs": [
    {
     "name": "stdout",
     "output_type": "stream",
     "text": [
      " X | X | O \n",
      "-----------\n",
      " O | O | X \n",
      "-----------\n",
      " X | O | X \n",
      "\n",
      "Tied\n",
      "\n",
      "Thank you for playing\n"
     ]
    }
   ],
   "source": [
    "tic_tac_toe()"
   ]
  },
  {
   "cell_type": "code",
   "execution_count": 32,
   "metadata": {},
   "outputs": [
    {
     "name": "stdout",
     "output_type": "stream",
     "text": [
      " X | X | O \n",
      "-----------\n",
      " O | X | X \n",
      "-----------\n",
      " X | O | O \n",
      "\n",
      "Tied\n",
      "\n",
      "Thank you for playing\n"
     ]
    }
   ],
   "source": [
    "tic_tac_toe()"
   ]
  },
  {
   "cell_type": "code",
   "execution_count": 33,
   "metadata": {},
   "outputs": [
    {
     "name": "stdout",
     "output_type": "stream",
     "text": [
      " O | X | X \n",
      "-----------\n",
      " X | O | O \n",
      "-----------\n",
      " O | X | X \n",
      "\n",
      "Tied\n",
      "\n",
      "Thank you for playing\n"
     ]
    }
   ],
   "source": [
    "tic_tac_toe()"
   ]
  },
  {
   "cell_type": "code",
   "execution_count": 34,
   "metadata": {},
   "outputs": [
    {
     "name": "stdout",
     "output_type": "stream",
     "text": [
      "   |   |   \n",
      "-----------\n",
      "   | X |   \n",
      "-----------\n",
      "   |   |   \n",
      "\n",
      "Player Quits\n",
      "\n",
      "\n",
      "Thank you for playing\n"
     ]
    }
   ],
   "source": [
    "tic_tac_toe()"
   ]
  },
  {
   "cell_type": "code",
   "execution_count": null,
   "metadata": {},
   "outputs": [],
   "source": []
  }
 ],
 "metadata": {
  "kernelspec": {
   "display_name": "Python 3",
   "language": "python",
   "name": "python3"
  },
  "language_info": {
   "codemirror_mode": {
    "name": "ipython",
    "version": 3
   },
   "file_extension": ".py",
   "mimetype": "text/x-python",
   "name": "python",
   "nbconvert_exporter": "python",
   "pygments_lexer": "ipython3",
   "version": "3.7.3"
  }
 },
 "nbformat": 4,
 "nbformat_minor": 2
}
